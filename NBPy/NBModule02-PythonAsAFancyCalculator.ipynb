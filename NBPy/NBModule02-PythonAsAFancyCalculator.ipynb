{
 "cells": [
  {
   "cell_type": "markdown",
   "metadata": {},
   "source": [
    "<center><font size =4><b>Module 02: Python As A Fancy Calculator</b></font></center>"
   ]
  },
  {
   "cell_type": "markdown",
   "metadata": {},
   "source": [
    "This module is primarily based on the web site: https://community.nclab.com/question/introduction-to-python-programming-section-1-introduction/"
   ]
  },
  {
   "cell_type": "markdown",
   "metadata": {},
   "source": [
    "In this module, we we will demonstrate how to use Python as a fancy calculator that will be used to do basic arithemtics and evaluate basic mathemtical functions using commonly used Python modules (libraries).\n",
    "\n",
    "Python can be used as an advanced scientific calculator, no need to own a `TI Calculator`. Moreover, a `TI Calculator` hardly can compete with the processing power of a desktop computer. In this module, we will show you how to use this computing power - no programming needed. \n",
    "\n"
   ]
  },
  {
   "cell_type": "markdown",
   "metadata": {},
   "source": [
    "## 1. Basic Arithmetic Operations"
   ]
  },
  {
   "cell_type": "markdown",
   "metadata": {},
   "source": [
    "* We have provided examples on the four basic arithmetic operations in the previous module. Here are a few more examples."
   ]
  },
  {
   "cell_type": "code",
   "execution_count": 2,
   "metadata": {},
   "outputs": [
    {
     "name": "stdout",
     "output_type": "stream",
     "text": [
      "2 + 5 =  7\n",
      "2 - 5 =  -3\n",
      "2 * 5 =  10\n",
      "2 / 5 = 0.4\n"
     ]
    }
   ],
   "source": [
    "# addition\n",
    "print(\"2 + 5 = \", 2 + 5)\n",
    "\n",
    "# subtraction\n",
    "print(\"2 - 5 = \", 2 - 5)\n",
    "\n",
    "# multiplication\n",
    "print(\"2 * 5 = \", 2 * 5)\n",
    "\n",
    "# division\n",
    "print(\"2 / 5 =\", 2 / 5)\n"
   ]
  },
  {
   "cell_type": "markdown",
   "metadata": {},
   "source": [
    "* The floor division `a // b` returns the closest integer below `a / b`."
   ]
  },
  {
   "cell_type": "code",
   "execution_count": 6,
   "metadata": {},
   "outputs": [
    {
     "data": {
      "text/plain": [
       "2"
      ]
     },
     "execution_count": 6,
     "metadata": {},
     "output_type": "execute_result"
    }
   ],
   "source": [
    "13 // 5"
   ]
  },
  {
   "cell_type": "markdown",
   "metadata": {},
   "source": [
    "* Modulo is the remainder after floor division, and often it is used together with the floor division. In Python, modulo is represented via the percent symbol ’%’."
   ]
  },
  {
   "cell_type": "code",
   "execution_count": 5,
   "metadata": {},
   "outputs": [
    {
     "data": {
      "text/plain": [
       "3"
      ]
     },
     "execution_count": 5,
     "metadata": {},
     "output_type": "execute_result"
    }
   ],
   "source": [
    "13 % 5  # returns the remainder of 13/5, that is 3"
   ]
  },
  {
   "cell_type": "markdown",
   "metadata": {},
   "source": [
    "* For exponents, such as in 24, Python has a double-star symbol  ’**’"
   ]
  },
  {
   "cell_type": "code",
   "execution_count": 7,
   "metadata": {},
   "outputs": [
    {
     "data": {
      "text/plain": [
       "371293"
      ]
     },
     "execution_count": 7,
     "metadata": {},
     "output_type": "execute_result"
    }
   ],
   "source": [
    "13**5   # 13 to power 5"
   ]
  },
  {
   "cell_type": "markdown",
   "metadata": {},
   "source": [
    "|Operator\t|Name\t|Example\t|\n",
    "|:---------:|:-----:|:---------:|\n",
    "|+\t|Addition\t|x + y\t|\n",
    "|-\t|Subtraction\t|x - y\t|\n",
    "|*\t|Multiplication\t|x * y\t|\n",
    "|/\t|Division\t|x / y\t|\n",
    "|%\t|Modulus\t|x % y\t|\n",
    "|**\t|Exponentiation\t|x ** y\t|\n",
    "|//\t|Floor division\t|x // y|"
   ]
  },
  {
   "cell_type": "markdown",
   "metadata": {},
   "source": [
    "## 2. Order of Operations"
   ]
  },
  {
   "cell_type": "markdown",
   "metadata": {},
   "source": [
    "Python follows the standard priority of math operations:\n",
    "\n",
    "* Round brackets ’(...)’ have the highest priority,\n",
    "* then exponentiation ’**’,\n",
    "* then multiplication ’*’, division ’/’, floor division ’//’, and modulo ’%’,\n",
    "* the lowest priority have addition ’+’ and subtraction ’-’,\n",
    "\n",
    "`operations with the same priority are evaluated from left to right` – for example the result of 20 / 10 * 2 is 4.\n",
    "\n",
    "<font color = \"darkred\"><b>Caution</b></font> no other brackets such as `{ }` and `[ ]` are admissible in mathematical expressions. The reason is that they have a different meaning in the programming language."
   ]
  },
  {
   "cell_type": "code",
   "execution_count": 9,
   "metadata": {},
   "outputs": [
    {
     "data": {
      "text/plain": [
       "30.0"
      ]
     },
     "execution_count": 9,
     "metadata": {},
     "output_type": "execute_result"
    }
   ],
   "source": [
    "3**4 / 27 * 5 + 3 * 5"
   ]
  },
  {
   "cell_type": "markdown",
   "metadata": {},
   "source": [
    "Or equivalently,"
   ]
  },
  {
   "cell_type": "code",
   "execution_count": 10,
   "metadata": {},
   "outputs": [
    {
     "data": {
      "text/plain": [
       "30.0"
      ]
     },
     "execution_count": 10,
     "metadata": {},
     "output_type": "execute_result"
    }
   ],
   "source": [
    "(3**4) / 27 * 5 + 3 * 5"
   ]
  },
  {
   "cell_type": "code",
   "execution_count": 11,
   "metadata": {},
   "outputs": [
    {
     "data": {
      "text/plain": [
       "1.0"
      ]
     },
     "execution_count": 11,
     "metadata": {},
     "output_type": "execute_result"
    }
   ],
   "source": [
    "20 / 4 / 5"
   ]
  },
  {
   "cell_type": "markdown",
   "metadata": {},
   "source": [
    "## 3. Operations With Python Libraries"
   ]
  },
  {
   "cell_type": "markdown",
   "metadata": {},
   "source": [
    "There are many Python linraries we will use in the future. Here are a few of them that can be used to perform basic scientific calculations.\n",
    "\n",
    "####  <font color = \"darkred\"><b> 3.1. Numpy Library</b></font>\n",
    "\n",
    "In order to calculate square roots, exponentials, sines, cosines, tangents, and many other math functions, the best way is to import Numpy. Numpy is a powerful Python library for numerical computations. To import it, just include the following line at the beginning of the code."
   ]
  },
  {
   "cell_type": "code",
   "execution_count": 1,
   "metadata": {},
   "outputs": [
    {
     "data": {
      "text/plain": [
       "7.38905609893065"
      ]
     },
     "execution_count": 1,
     "metadata": {},
     "output_type": "execute_result"
    }
   ],
   "source": [
    "import numpy as np\n",
    "\n",
    "np.exp(2)"
   ]
  },
  {
   "cell_type": "markdown",
   "metadata": {},
   "source": [
    "The reader surely knows that the cosine of 90 degrees (which is 90π∕180 radians) is 0. However, when typing"
   ]
  },
  {
   "cell_type": "code",
   "execution_count": 13,
   "metadata": {},
   "outputs": [
    {
     "data": {
      "text/plain": [
       "6.123233995736766e-17"
      ]
     },
     "execution_count": 13,
     "metadata": {},
     "output_type": "execute_result"
    }
   ],
   "source": [
    "np.cos(90 * np.pi / 180)"
   ]
  },
  {
   "cell_type": "markdown",
   "metadata": {},
   "source": [
    "Python did not give 0 for $cos(90^o)$ since the computer cannot represent $\\pi$ exactly because it has infinitely many decimal digits. The `cosine function` also cannot be calculated exactly because it involves the summation of an infinite (Taylor) series.\n",
    "\n",
    "Python has a built-in function `round(x, n)` to round a number `x` to `n` decimal digits. \n"
   ]
  },
  {
   "cell_type": "code",
   "execution_count": 14,
   "metadata": {},
   "outputs": [
    {
     "data": {
      "text/plain": [
       "0.0"
      ]
     },
     "execution_count": 14,
     "metadata": {},
     "output_type": "execute_result"
    }
   ],
   "source": [
    "round(np.cos(90 * np.pi / 180), 15)"
   ]
  },
  {
   "cell_type": "markdown",
   "metadata": {},
   "source": [
    "`List of math functions and constants`"
   ]
  },
  {
   "cell_type": "markdown",
   "metadata": {},
   "source": [
    "Elementary functions (and constants) that one can import from `Numpy` are listed below. We also show their arguments for clarity, but the functions are imported without them. Remember, the Numpy library is imported via `import numpy as np`"
   ]
  },
  {
   "cell_type": "markdown",
   "metadata": {},
   "source": [
    "|function name | Python code | Explanation | \n",
    "|:------------:|:-----------:|:-----------:|\n",
    "| pi\t| np.pi | \t $\\pi$|\n",
    "| e\t |np.e |\t e|\n",
    "| arccos(x)\t |np.arccos \t |inverse cosine of x|\n",
    "| arccosh(x)\t| np.arccosh \t |inverse hyperbolic cosine of x|\n",
    "| arcsin(x)\t |np.arcsin \t| inverse sine of x|\n",
    "| arcsinh(x)\t| np.arcsinh \t| inverse hyperbolic sine of x|\n",
    "| arctan(x)\t |np.arctan \t| inverse tangent of x|\n",
    "| arctanh(x)\t |np.arctanh \t|inverse hyperbolic tangent of x|\n",
    "| arctan2(x1, x2)    \t |np.arctan2 \t |arc tangent of x1∕x2 choosing the quadrant correctly|\n",
    "| cos(x)\t| np.cos \t |cosine of x|\n",
    "| cosh(x)\t |np.cosh \t |hyperbolic tangent of x|\n",
    "| exp(x)\t|np.exp \t |ex|\n",
    "| log(x)\t| np.log \t |natural logarithm of x|\n",
    "| pow(a, b)\t| np.pow \t |ab (same as \"a**b\")|\n",
    "| sin(x)\t| np.sin \t |sine of x|\n",
    "| sinh(x)\t| np.sinh \t |hyperbolic sine of x|\n",
    "| sqrt(x)\t| np.sqrt \t |square root of x|\n",
    "| tan(x)\t| np.tan \t |tangent of x|\n",
    "| tanh(x)\t| np.tanh \t |hyperbolic tangent of x|"
   ]
  },
  {
   "cell_type": "markdown",
   "metadata": {},
   "source": [
    "In summary:\n",
    "\n",
    "> Python provides many readily available mathematical functions via the Numpy library. To use them, import Numpy via the command `import numpy as np`."
   ]
  },
  {
   "cell_type": "markdown",
   "metadata": {},
   "source": [
    "#### <font color = \"darkred\"><b>3.2. Fractions library</b></font>"
   ]
  },
  {
   "cell_type": "markdown",
   "metadata": {},
   "source": [
    "Python `fractions module` provides support for rational number arithmetic. It allows to create a `Fraction instance` from integers, floats, numbers, decimals and strings.\n",
    "\n",
    "Fractions can then be added, subtracted, multiplied and divided as you would expect. We can use `Fraction()` function in ` the fractions library `"
   ]
  },
  {
   "cell_type": "code",
   "execution_count": 21,
   "metadata": {},
   "outputs": [
    {
     "name": "stdout",
     "output_type": "stream",
     "text": [
      "5/6\n",
      "12/47\n",
      "0\n",
      "add_fraction:  1\n"
     ]
    }
   ],
   "source": [
    "from fractions import Fraction as fr   # fractions module and Fraction instance (function).\n",
    "print(fr(45, 54))\n",
    "print(fr(12, 47))\n",
    "print(fr(0, 15))\n",
    "\n",
    "## addition\n",
    "add_fraction = fr(2, 6) + fr(2, 3)\n",
    "print(\"add_fraction: \", add_fraction)"
   ]
  },
  {
   "cell_type": "code",
   "execution_count": 40,
   "metadata": {},
   "outputs": [
    {
     "name": "stdout",
     "output_type": "stream",
     "text": [
      "fr.Fraction(45, 54) = 5/6\n",
      "fr.Fraction(.1) = 3602879701896397/36028797018963968\n",
      "fr.Fraction(2.5) = 5/2\n",
      "fr.Fraction('1.13') = 113/100\n"
     ]
    }
   ],
   "source": [
    "import fractions as fr\n",
    "\n",
    "print(\"fr.Fraction(45, 54) =\",fr.Fraction(45, 54))\n",
    "\n",
    "print(\"fr.Fraction(2.5) =\", fr.Fraction(2.5))\n",
    "\n",
    "print(\"fr.Fraction('1.13') =\", fr.Fraction('1.13'))"
   ]
  },
  {
   "cell_type": "markdown",
   "metadata": {},
   "source": [
    "Notice that for **floating point values** that cannot be expressed exactly the rational representation may yield unexpected results,"
   ]
  },
  {
   "cell_type": "code",
   "execution_count": 42,
   "metadata": {},
   "outputs": [
    {
     "name": "stdout",
     "output_type": "stream",
     "text": [
      "fr.Fraction(.1) = 3602879701896397/36028797018963968\n",
      "fr.Fraction(.5) = 1/2\n",
      "fr.Fraction(1.0) = 1\n",
      "fr.Fraction(1.5) = 3/2\n"
     ]
    }
   ],
   "source": [
    "print(\"fr.Fraction(.1) =\", fr.Fraction(0.1))\n",
    "\n",
    "print(\"fr.Fraction(.5) =\", fr.Fraction(0.5))\n",
    "\n",
    "print(\"fr.Fraction(1.0) =\", fr.Fraction(1.0))\n",
    "\n",
    "print(\"fr.Fraction(1.5) =\", fr.Fraction(1.5))"
   ]
  },
  {
   "cell_type": "markdown",
   "metadata": {},
   "source": [
    "#### <font color = \"darkred\"><b>3.3. random library</b></font>"
   ]
  },
  {
   "cell_type": "markdown",
   "metadata": {},
   "source": [
    "Python provides a random number generator via the `random() function` that can be imported from the `Random library`. First let’s import the library as `rn`."
   ]
  },
  {
   "cell_type": "code",
   "execution_count": 44,
   "metadata": {},
   "outputs": [
    {
     "data": {
      "text/plain": [
       "0.5746987271500953"
      ]
     },
     "execution_count": 44,
     "metadata": {},
     "output_type": "execute_result"
    }
   ],
   "source": [
    "import random as rn\n",
    "\n",
    "rn.random()    # generates a uniform random number between 0 and 1"
   ]
  },
  {
   "cell_type": "markdown",
   "metadata": {},
   "source": [
    "When we need a random number in a different interval, for example between 10 and 15, then we multiply the result of random() by the length of the interval (here 5) and add the left end point (here 10)"
   ]
  },
  {
   "cell_type": "code",
   "execution_count": 45,
   "metadata": {},
   "outputs": [
    {
     "data": {
      "text/plain": [
       "11.619053937646035"
      ]
     },
     "execution_count": 45,
     "metadata": {},
     "output_type": "execute_result"
    }
   ],
   "source": [
    "10 + 5*rn.random()"
   ]
  },
  {
   "cell_type": "markdown",
   "metadata": {},
   "source": [
    "Sometimes we need to generate random integers rather than real numbers. This can be done via the `randint() function`. For illustration, a random integer between 1 and 3 can be generated via the code"
   ]
  },
  {
   "cell_type": "code",
   "execution_count": 46,
   "metadata": {},
   "outputs": [
    {
     "data": {
      "text/plain": [
       "2"
      ]
     },
     "execution_count": 46,
     "metadata": {},
     "output_type": "execute_result"
    }
   ],
   "source": [
    "rn.randint(1, 3)"
   ]
  },
  {
   "cell_type": "markdown",
   "metadata": {},
   "source": [
    "## 4. Complex Numbers"
   ]
  },
  {
   "cell_type": "markdown",
   "metadata": {},
   "source": [
    "* Appending ’j’ or ’J’ to a real number makes it imaginary. "
   ]
  },
  {
   "cell_type": "code",
   "execution_count": 49,
   "metadata": {},
   "outputs": [
    {
     "data": {
      "text/plain": [
       "(3+4j)"
      ]
     },
     "execution_count": 49,
     "metadata": {},
     "output_type": "execute_result"
    }
   ],
   "source": [
    "3 + 4j"
   ]
  },
  {
   "cell_type": "markdown",
   "metadata": {},
   "source": [
    "* Use built-in function complex() to define a complex number."
   ]
  },
  {
   "cell_type": "code",
   "execution_count": 52,
   "metadata": {},
   "outputs": [
    {
     "data": {
      "text/plain": [
       "(3+4j)"
      ]
     },
     "execution_count": 52,
     "metadata": {},
     "output_type": "execute_result"
    }
   ],
   "source": [
    "complex(3,4)"
   ]
  },
  {
   "cell_type": "markdown",
   "metadata": {},
   "source": [
    "* Operations between complex numbers"
   ]
  },
  {
   "cell_type": "code",
   "execution_count": 53,
   "metadata": {},
   "outputs": [
    {
     "data": {
      "text/plain": [
       "(1.3076923076923077+0.46153846153846156j)"
      ]
     },
     "execution_count": 53,
     "metadata": {},
     "output_type": "execute_result"
    }
   ],
   "source": [
    "complex(3,4) / complex(3,2)"
   ]
  },
  {
   "cell_type": "code",
   "execution_count": 54,
   "metadata": {},
   "outputs": [
    {
     "data": {
      "text/plain": [
       "(1.3076923076923077+0.46153846153846156j)"
      ]
     },
     "execution_count": 54,
     "metadata": {},
     "output_type": "execute_result"
    }
   ],
   "source": [
    "(3+4j) / (3 + 2j)"
   ]
  },
  {
   "cell_type": "markdown",
   "metadata": {},
   "source": [
    "* Extracting Real and Imaginary Parts of A Complex Number"
   ]
  },
  {
   "cell_type": "markdown",
   "metadata": {},
   "source": [
    "To extract the real and imaginary parts of a complex number z, use `z.real` and `z.imag`. Use `abs()` to get the absolute value"
   ]
  },
  {
   "cell_type": "code",
   "execution_count": 56,
   "metadata": {},
   "outputs": [
    {
     "name": "stdout",
     "output_type": "stream",
     "text": [
      "a.real =  3.0\n",
      "a.imag =  4.0\n",
      "abs(a) =  5.0\n"
     ]
    }
   ],
   "source": [
    "a = 3 + 4j  \n",
    "print(\"a.real = \",a.real)  \n",
    "print(\"a.imag = \",a.imag)  \n",
    "print(\"abs(a) = \",abs(a))"
   ]
  },
  {
   "cell_type": "code",
   "execution_count": null,
   "metadata": {},
   "outputs": [],
   "source": []
  }
 ],
 "metadata": {
  "kernelspec": {
   "display_name": "Python 3 (ipykernel)",
   "language": "python",
   "name": "python3"
  },
  "language_info": {
   "codemirror_mode": {
    "name": "ipython",
    "version": 3
   },
   "file_extension": ".py",
   "mimetype": "text/x-python",
   "name": "python",
   "nbconvert_exporter": "python",
   "pygments_lexer": "ipython3",
   "version": "3.9.12"
  },
  "latex_envs": {
   "LaTeX_envs_menu_present": true,
   "autoclose": false,
   "autocomplete": true,
   "bibliofile": "biblio.bib",
   "cite_by": "apalike",
   "current_citInitial": 1,
   "eqLabelWithNumbers": true,
   "eqNumInitial": 1,
   "hotkeys": {
    "equation": "Ctrl-E",
    "itemize": "Ctrl-I"
   },
   "labels_anchors": false,
   "latex_user_defs": false,
   "report_style_numbering": false,
   "user_envs_cfg": false
  },
  "toc": {
   "base_numbering": 1,
   "nav_menu": {},
   "number_sections": false,
   "sideBar": true,
   "skip_h1_title": false,
   "title_cell": "Table of Contents",
   "title_sidebar": "Using Python As A Fancy Calculator",
   "toc_cell": false,
   "toc_position": {
    "height": "calc(100% - 180px)",
    "left": "10px",
    "top": "150px",
    "width": "253.391px"
   },
   "toc_section_display": true,
   "toc_window_display": true
  },
  "varInspector": {
   "cols": {
    "lenName": 16,
    "lenType": 16,
    "lenVar": 40
   },
   "kernels_config": {
    "python": {
     "delete_cmd_postfix": "",
     "delete_cmd_prefix": "del ",
     "library": "var_list.py",
     "varRefreshCmd": "print(var_dic_list())"
    },
    "r": {
     "delete_cmd_postfix": ") ",
     "delete_cmd_prefix": "rm(",
     "library": "var_list.r",
     "varRefreshCmd": "cat(var_dic_list()) "
    }
   },
   "types_to_exclude": [
    "module",
    "function",
    "builtin_function_or_method",
    "instance",
    "_Feature"
   ],
   "window_display": false
  }
 },
 "nbformat": 4,
 "nbformat_minor": 2
}
