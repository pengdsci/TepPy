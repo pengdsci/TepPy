{
 "cells": [
  {
   "cell_type": "markdown",
   "metadata": {},
   "source": [
    "  <center><font size = 5><b>Module 08: File Operations and Exception Handling</b></font></center>"
   ]
  },
  {
   "cell_type": "markdown",
   "metadata": {},
   "source": [
    "This module is primarily based on the web site: https://www.programiz.com/python-programming/operators"
   ]
  },
  {
   "cell_type": "markdown",
   "metadata": {},
   "source": [
    "In this module, we discussion Python file operations and exception handling."
   ]
  },
  {
   "cell_type": "markdown",
   "metadata": {},
   "source": [
    "## 1. File Imput and Output"
   ]
  },
  {
   "cell_type": "markdown",
   "metadata": {},
   "source": [
    "In this section, we'll learn about Python file operations. More specifically, opening a file, reading from it, writing into it, closing it, and various file methods that you should be aware of."
   ]
  },
  {
   "cell_type": "markdown",
   "metadata": {},
   "source": [
    "### 1.1. What Python Files"
   ]
  },
  {
   "cell_type": "markdown",
   "metadata": {},
   "source": [
    "Files are named locations on disk to store related information. They are used to permanently store data in a non-volatile memory (e.g. hard disk).\n",
    "\n",
    "Since Random Access Memory (RAM) is volatile (which loses its data when the computer is turned off), we use files for future use of the data by permanently storing them.\n",
    "\n",
    "When we want to read from or write to a file, we need to open it first. When we are done, it needs to be closed so that the resources that are tied with the file are freed.\n",
    "\n",
    "Hence, in Python, a file operation takes place in the following order:\n",
    "\n",
    "1. Open a file\n",
    "\n",
    "2. Read or write (perform operation)\n",
    "\n",
    "3. Close the file"
   ]
  },
  {
   "cell_type": "markdown",
   "metadata": {},
   "source": [
    "### 1.2. Opening Files in Python"
   ]
  },
  {
   "cell_type": "markdown",
   "metadata": {},
   "source": [
    "Python has a built-in `open() function` to open a file. This function returns a file object, also called a handle, as it is used to read or modify the file accordingly."
   ]
  },
  {
   "cell_type": "code",
   "execution_count": 2,
   "metadata": {},
   "outputs": [],
   "source": [
    "f0 = open(\"iris.txt\")                         # open file in current directory\n",
    "f1 = open(\"C:/PythonCarshCourse/iris.txt\")    # specifying full path"
   ]
  },
  {
   "cell_type": "markdown",
   "metadata": {},
   "source": [
    "We can specify the `mode` while opening a file. In mode, we specify whether we want to read `r`, write `w` or append a to the file. We can also specify if we want to open the file in text mode or binary mode.\n",
    "\n",
    "`The default is reading in text mode`. In this mode, we get strings when reading from the file.\n",
    "\n",
    "On the other hand, `binary mode` returns bytes and this is the mode to be used when dealing with non-text files like images or executable files."
   ]
  },
  {
   "cell_type": "markdown",
   "metadata": {},
   "source": [
    "|Mode\t|Description|\n",
    "|:-----:|:---------:|\n",
    "|r\t|Opens a file for reading. (default)|\n",
    "|w\t|Opens a file for writing. Creates a new file if it does not exist or truncates the file if it exists.|\n",
    "|x\t|Opens a file for exclusive creation. If the file already exists, the operation fails.|\n",
    "|a\t|Opens a file for appending at the end of the file without truncating it. Creates a new file if it does not exist.|\n",
    "|t\t|Opens in text mode. (default)|\n",
    "|b\t|Opens in binary mode.|\n",
    "|+\t|Opens a file for updating (reading and writing)|"
   ]
  },
  {
   "cell_type": "code",
   "execution_count": 60,
   "metadata": {},
   "outputs": [],
   "source": [
    "frt_iris = open(\"iris.txt\")          # equivalent to 'r' or 'rt', file is in the current folder\n",
    "fw_iris = open(\"iris.txt\",'w')       # write in text mode\n",
    "frw_bmp = open(\"C:/PythonCarshCourse/iris.bmp\",'r+b')     # read and write in binary mode"
   ]
  },
  {
   "cell_type": "code",
   "execution_count": 61,
   "metadata": {},
   "outputs": [
    {
     "name": "stdout",
     "output_type": "stream",
     "text": [
      "\n"
     ]
    }
   ],
   "source": [
    "print(frt_iris.read(5))"
   ]
  },
  {
   "cell_type": "markdown",
   "metadata": {},
   "source": [
    "Unlike other languages, the character a does not imply the number 97 until it is encoded using ASCII (or other equivalent encodings).\n",
    "\n",
    "Moreover, `the default encoding is platform dependent`. <font color = \"red\"><b>In windows, it is cp1252 but utf-8 in Linux.</b></font>\n",
    "\n",
    "So, we must not also rely on the default encoding or else our code will behave differently in different platforms.\n",
    "\n",
    "Hence, when working with files in text mode, <font color = \"blue\">it is highly recommended to specify the encoding type.</font>"
   ]
  },
  {
   "cell_type": "code",
   "execution_count": 1,
   "metadata": {},
   "outputs": [
    {
     "data": {
      "text/plain": [
       "['sepallength\\tsepalwidth\\tpetallength\\tpetalwidth\\tclass\\n']"
      ]
     },
     "execution_count": 1,
     "metadata": {},
     "output_type": "execute_result"
    }
   ],
   "source": [
    "f_mode = open(\"irisdata.txt\", mode='r', encoding='utf-8')\n",
    "f_mode.readlines(5)"
   ]
  },
  {
   "cell_type": "markdown",
   "metadata": {},
   "source": [
    "### 1.3. Closing Files in Python"
   ]
  },
  {
   "cell_type": "markdown",
   "metadata": {},
   "source": [
    "When we are done with performing operations on the file, we need to properly close the file.\n",
    "\n",
    "Closing a file will free up the resources that were tied with the file. It is done using the `close() method` available in Python.\n",
    "\n",
    "<font color = \"blue\"><b>Python has a garbage collector to clean up unreferenced objects but we must not rely on it to close the file.</b></font>"
   ]
  },
  {
   "cell_type": "code",
   "execution_count": 8,
   "metadata": {},
   "outputs": [],
   "source": [
    "fopen = open(\"iris.txt\", encoding = 'utf-8')\n",
    "# perform file operations\n",
    "fopen.close()"
   ]
  },
  {
   "cell_type": "markdown",
   "metadata": {},
   "source": [
    "This method is not entirely safe. If an exception occurs when we are performing some operation with the file, the code exits without closing the file.\n",
    "\n",
    "A safer way is to use a `try...finally block`."
   ]
  },
  {
   "cell_type": "code",
   "execution_count": 9,
   "metadata": {},
   "outputs": [],
   "source": [
    "try:\n",
    "    f_try_op = open(\"iris.txt\", encoding = 'utf-8')\n",
    "    # perform file operations\n",
    "finally:\n",
    "    f_try_op.close()"
   ]
  },
  {
   "cell_type": "markdown",
   "metadata": {},
   "source": [
    "This way, we are guaranteeing that the file is properly closed even if an exception is raised that causes program flow to stop.\n",
    "\n",
    "The best way to close a file is by using the with statement. This ensures that the file is closed when the block inside the with statement is exited.\n",
    "\n",
    "We don't need to explicitly call the `close() method`. It is done internally."
   ]
  },
  {
   "cell_type": "markdown",
   "metadata": {},
   "source": [
    "* **Writing to Files in Python**"
   ]
  },
  {
   "cell_type": "markdown",
   "metadata": {},
   "source": [
    "In order to write into a file in Python, we need to open it in `write w`, `append a` or `exclusive creation x mode`.\n",
    "\n",
    "We need to be careful with the w mode, as it will overwrite into the file if it already exists. Due to this, all the previous data are erased.\n",
    "\n",
    "Writing a string or sequence of bytes (for binary files) is done using the `write() method`. This method returns the number of characters written to the file."
   ]
  },
  {
   "cell_type": "code",
   "execution_count": 18,
   "metadata": {},
   "outputs": [],
   "source": [
    "with open(\"test.txt\", 'w', encoding = 'utf-8') as f:\n",
    "    f.write(\"my first file\\n\")        # \\n change to a new line\n",
    "    f.write(\"This file\\n\\n\")          # \\n\\n skip a line\n",
    "    f.write(\"contains three lines\\n\")"
   ]
  },
  {
   "cell_type": "code",
   "execution_count": 20,
   "metadata": {},
   "outputs": [
    {
     "name": "stdout",
     "output_type": "stream",
     "text": [
      "my first file\n",
      "This file\n",
      "\n",
      "contains three lines\n",
      "\n"
     ]
    }
   ],
   "source": [
    "test_f = open(\"test.txt\", encoding='utf-8')\n",
    "print(test_f.read())"
   ]
  },
  {
   "cell_type": "markdown",
   "metadata": {},
   "source": [
    "Next we add one additional line of text to the existing file `test.txt`."
   ]
  },
  {
   "cell_type": "code",
   "execution_count": 21,
   "metadata": {},
   "outputs": [],
   "source": [
    "with open(\"test.txt\", 'a', encoding = 'utf-8') as f:       # 'a' = appending to the existing test.txt\n",
    "    f.write(\"\\n this is an additional line\\n\")        # \\n change to a new line"
   ]
  },
  {
   "cell_type": "markdown",
   "metadata": {},
   "source": [
    "Let's see whether the additional line has been added to the existing `test.txt`."
   ]
  },
  {
   "cell_type": "code",
   "execution_count": 22,
   "metadata": {
    "scrolled": true
   },
   "outputs": [
    {
     "name": "stdout",
     "output_type": "stream",
     "text": [
      "my first file\n",
      "This file\n",
      "\n",
      "contains three lines\n",
      "\n",
      " this is an additional line\n",
      "\n"
     ]
    }
   ],
   "source": [
    "test_f = open(\"test.txt\", encoding='utf-8')\n",
    "print(test_f.read())"
   ]
  },
  {
   "cell_type": "markdown",
   "metadata": {},
   "source": [
    "### 1.4. Reading Files in Python"
   ]
  },
  {
   "cell_type": "markdown",
   "metadata": {},
   "source": [
    "To read a file in Python, we must open the file in reading `r mode`. There are various methods available for this purpose. We can use the `read(size) method` to read in the size number of data. <font color = \"red\">If the size parameter is not specified, it reads and returns up to the end of the file.</font>\n",
    "\n",
    "We can read the text.txt file we wrote in the above section in the following way:"
   ]
  },
  {
   "cell_type": "code",
   "execution_count": 37,
   "metadata": {},
   "outputs": [
    {
     "data": {
      "text/plain": [
       "'my '"
      ]
     },
     "execution_count": 37,
     "metadata": {},
     "output_type": "execute_result"
    }
   ],
   "source": [
    "f = open(\"test.txt\",'r',encoding = 'utf-8')\n",
    "f.read(3)    # read the first 3 data"
   ]
  },
  {
   "cell_type": "code",
   "execution_count": 26,
   "metadata": {},
   "outputs": [
    {
     "data": {
      "text/plain": [
       "'first'"
      ]
     },
     "execution_count": 26,
     "metadata": {},
     "output_type": "execute_result"
    }
   ],
   "source": [
    "f.read(5)   # next 5 data (chracters)"
   ]
  },
  {
   "cell_type": "markdown",
   "metadata": {},
   "source": [
    "We can change our current file cursor (position) using the `seek() method`. Similarly, the `tell() method` returns our current position (in number of bytes)."
   ]
  },
  {
   "cell_type": "code",
   "execution_count": 27,
   "metadata": {},
   "outputs": [
    {
     "data": {
      "text/plain": [
       "8"
      ]
     },
     "execution_count": 27,
     "metadata": {},
     "output_type": "execute_result"
    }
   ],
   "source": [
    "f.tell()    # get the current file position -  the first 8 lines have been read in the previous two code chunks"
   ]
  },
  {
   "cell_type": "code",
   "execution_count": 28,
   "metadata": {},
   "outputs": [
    {
     "data": {
      "text/plain": [
       "0"
      ]
     },
     "execution_count": 28,
     "metadata": {},
     "output_type": "execute_result"
    }
   ],
   "source": [
    "f.seek(0)   # bring file cursor to initial position"
   ]
  },
  {
   "cell_type": "code",
   "execution_count": 29,
   "metadata": {},
   "outputs": [
    {
     "data": {
      "text/plain": [
       "0"
      ]
     },
     "execution_count": 29,
     "metadata": {},
     "output_type": "execute_result"
    }
   ],
   "source": [
    "f.tell()    # this reurns 0 since we reset the cursor position!"
   ]
  },
  {
   "cell_type": "code",
   "execution_count": 39,
   "metadata": {},
   "outputs": [
    {
     "name": "stdout",
     "output_type": "stream",
     "text": [
      "my first file\n",
      "This file\n",
      "\n",
      "contains three lines\n",
      "\n",
      " this is an additional line\n",
      "\n"
     ]
    }
   ],
   "source": [
    "f = open(\"test.txt\",'r',encoding = 'utf-8')\n",
    "print(f.read())  # read the entire file"
   ]
  },
  {
   "cell_type": "markdown",
   "metadata": {},
   "source": [
    "Alternatively, we can use the `readline() method` to read individual lines of a file. This method reads a file till the newline, <font color = \"red\">including the newline character.</font>"
   ]
  },
  {
   "cell_type": "code",
   "execution_count": 40,
   "metadata": {},
   "outputs": [
    {
     "data": {
      "text/plain": [
       "'my first file\\n'"
      ]
     },
     "execution_count": 40,
     "metadata": {},
     "output_type": "execute_result"
    }
   ],
   "source": [
    "f = open(\"test.txt\",'r',encoding = 'utf-8')\n",
    "f.readline()"
   ]
  },
  {
   "cell_type": "code",
   "execution_count": 41,
   "metadata": {},
   "outputs": [
    {
     "data": {
      "text/plain": [
       "['This file\\n',\n",
       " '\\n',\n",
       " 'contains three lines\\n',\n",
       " '\\n',\n",
       " ' this is an additional line\\n']"
      ]
     },
     "execution_count": 41,
     "metadata": {},
     "output_type": "execute_result"
    }
   ],
   "source": [
    "f.readlines()"
   ]
  },
  {
   "cell_type": "markdown",
   "metadata": {},
   "source": [
    "### 1.5. Python File Methods"
   ]
  },
  {
   "cell_type": "markdown",
   "metadata": {},
   "source": [
    "There are various methods available with the file object. Some of them have been used in the above examples.\n",
    "\n",
    "Here is the complete list of methods in text mode with a brief description:\n",
    "\n",
    "|Method\t|Description|\n",
    "|:-----|:---------|\n",
    "|close()\t|Closes an opened file. It has no effect if the file is already closed.|\n",
    "|detach()\t|Separates the underlying binary buffer from the TextIOBase and returns it.|\n",
    "|fileno()\t|Returns an integer number (file descriptor) of the file.|\n",
    "|flush()\t|Flushes the write buffer of the file stream.|\n",
    "|isatty()\t|Returns True if the file stream is interactive.|\n",
    "|read(n)\t|Reads at most n characters from the file. Reads till end of file if it is negative or None.|\n",
    "|readable()\t|Returns True if the file stream can be read from.|\n",
    "|readline(n=-1)\t|Reads and returns one line from the file. Reads in at most n bytes if specified.|\n",
    "|readlines(n=-1)\t|Reads and returns a list of lines from the file. Reads in at most n bytes/characters if specified.|\n",
    "|seek(offset,from=SEEK_SET)\t|Changes the file position to offset bytes, in reference to from (start, current, end).|\n",
    "|seekable()\t|Returns True if the file stream supports random access.|\n",
    "|tell()\t|Returns the current file location.|\n",
    "|truncate(size=None)\t|Resizes the file stream to size bytes. If size is not specified, resizes to current location.|\n",
    "|writable()\t|Returns True if the file stream can be written to.|\n",
    "|write(s)\t|Writes the string s to the file and returns the number of characters written.|\n",
    "|writelines(lines)\t|Writes a list of lines to the file.|"
   ]
  },
  {
   "cell_type": "markdown",
   "metadata": {},
   "source": [
    "## 2. Directory and Files Management"
   ]
  },
  {
   "cell_type": "markdown",
   "metadata": {},
   "source": [
    "In this section we will learn about file and directory management in Python, i.e. creating a directory, renaming it, listing all directories, and working with them."
   ]
  },
  {
   "cell_type": "markdown",
   "metadata": {},
   "source": [
    "### 2.1. Python Directory"
   ]
  },
  {
   "cell_type": "markdown",
   "metadata": {},
   "source": [
    "If there are a large number of files to handle in our Python program, we can arrange our code within different directories to make things more manageable.\n",
    "\n",
    "A directory or folder is a collection of files and subdirectories. Python has the `os` module that provides us with many useful methods to work with directories (and files as well)."
   ]
  },
  {
   "cell_type": "markdown",
   "metadata": {},
   "source": [
    "### 2.2. Get Current Directory"
   ]
  },
  {
   "cell_type": "markdown",
   "metadata": {},
   "source": [
    "We can <font color = \"red\">get</font> the <font color = \"red\">c</font>urrent <font color = \"red\">w</font>orking <font color = \"red\">d</font>irectory using the `getcwd() method` of the `os module`.\n",
    "\n",
    "This method returns the current working directory in the form of a string. We can also use the `getcwdb() method` to get it as bytes object."
   ]
  },
  {
   "cell_type": "code",
   "execution_count": 43,
   "metadata": {},
   "outputs": [
    {
     "data": {
      "text/plain": [
       "'C:\\\\Users\\\\75CPENG\\\\OneDrive - West Chester University of PA\\\\Desktop\\\\cpeng\\\\WCU-Teaching\\\\2022Summer\\\\Python'"
      ]
     },
     "execution_count": 43,
     "metadata": {},
     "output_type": "execute_result"
    }
   ],
   "source": [
    "import os\n",
    "\n",
    "os.getcwd()\n"
   ]
  },
  {
   "cell_type": "markdown",
   "metadata": {},
   "source": [
    "The extra backslash implies an escape sequence. The `print() function` will render this properly."
   ]
  },
  {
   "cell_type": "code",
   "execution_count": 44,
   "metadata": {},
   "outputs": [
    {
     "name": "stdout",
     "output_type": "stream",
     "text": [
      "C:\\Users\\75CPENG\\OneDrive - West Chester University of PA\\Desktop\\cpeng\\WCU-Teaching\\2022Summer\\Python\n"
     ]
    }
   ],
   "source": [
    "print(os.getcwd())"
   ]
  },
  {
   "cell_type": "markdown",
   "metadata": {},
   "source": [
    "### 2.3. Changing Directory"
   ]
  },
  {
   "cell_type": "markdown",
   "metadata": {},
   "source": [
    "We can change the current working directory by using the `chdir() method`.\n",
    "\n",
    "The new path that we want to change into must be supplied as a string to this method. We can use both the `forward-slash /` or the `backward-slash \\` to separate the path elements.\n",
    "\n",
    "It is safer to use an escape sequence when using the backward slash."
   ]
  },
  {
   "cell_type": "code",
   "execution_count": 48,
   "metadata": {},
   "outputs": [],
   "source": [
    "os.chdir('C:\\\\Users\\\\75CPENG\\\\OneDrive - West Chester University of PA\\\\Desktop\\\\cpeng\\\\WCU-Teaching\\\\2022Summer\\\\Python')"
   ]
  },
  {
   "cell_type": "code",
   "execution_count": 49,
   "metadata": {},
   "outputs": [
    {
     "data": {
      "text/plain": [
       "'C:\\\\Users\\\\75CPENG\\\\OneDrive - West Chester University of PA\\\\Desktop\\\\cpeng\\\\WCU-Teaching\\\\2022Summer\\\\Python'"
      ]
     },
     "execution_count": 49,
     "metadata": {},
     "output_type": "execute_result"
    }
   ],
   "source": [
    "os.getcwd()"
   ]
  },
  {
   "cell_type": "markdown",
   "metadata": {},
   "source": [
    "### 2.4. List Directories and Files"
   ]
  },
  {
   "cell_type": "markdown",
   "metadata": {},
   "source": [
    "`All files and sub-directories` inside a directory can be retrieved using the `listdir() method`.\n",
    "\n",
    "This method takes in a path and returns a list of subdirectories and files in that path. If no path is specified, it returns the list of subdirectories and files from the current working directory."
   ]
  },
  {
   "cell_type": "code",
   "execution_count": 50,
   "metadata": {},
   "outputs": [
    {
     "data": {
      "text/plain": [
       "['.ipynb_checkpoints',\n",
       " 'image',\n",
       " 'iris.txt',\n",
       " 'NB01constant.py',\n",
       " 'NBModule01-GettingStarted.ipynb',\n",
       " 'NBModule02-FlowControl.ipynb',\n",
       " 'NBModule03-Functions.ipynb',\n",
       " 'NBModule04-DataTypes.ipynb',\n",
       " 'NBModule05-FileOperations.ipynb',\n",
       " 'nbsphinx.pdf',\n",
       " 'subdir',\n",
       " 'test.txt',\n",
       " 'Untitled.ipynb',\n",
       " '__pycache__']"
      ]
     },
     "execution_count": 50,
     "metadata": {},
     "output_type": "execute_result"
    }
   ],
   "source": [
    "os.listdir()"
   ]
  },
  {
   "cell_type": "markdown",
   "metadata": {},
   "source": [
    "### 2.5. Making A New Directory  & Rename/Removing An Existing Directory"
   ]
  },
  {
   "cell_type": "markdown",
   "metadata": {},
   "source": [
    "* **We can make a new directory using the `mkdir() method`**\n",
    "\n",
    "This method takes in the path of the new directory. <font color = \"red\">If the full path is not specified, the new directory is created in the current working directory.</font>\n"
   ]
  },
  {
   "cell_type": "code",
   "execution_count": 57,
   "metadata": {},
   "outputs": [
    {
     "data": {
      "text/plain": [
       "['.ipynb_checkpoints',\n",
       " 'image',\n",
       " 'iris.txt',\n",
       " 'NB01constant.py',\n",
       " 'NBModule01-GettingStarted.ipynb',\n",
       " 'NBModule02-FlowControl.ipynb',\n",
       " 'NBModule03-Functions.ipynb',\n",
       " 'NBModule04-DataTypes.ipynb',\n",
       " 'NBModule05-FileOperations.ipynb',\n",
       " 'nbsphinx.pdf',\n",
       " 'Newtest_dir',\n",
       " 'subdir',\n",
       " 'test.txt',\n",
       " 'Untitled.ipynb',\n",
       " '__pycache__']"
      ]
     },
     "execution_count": 57,
     "metadata": {},
     "output_type": "execute_result"
    }
   ],
   "source": [
    "os.mkdir('Newtest_dir')\n",
    "os.listdir()"
   ]
  },
  {
   "cell_type": "markdown",
   "metadata": {},
   "source": [
    "* **The `rename() method` can rename a directory or a file.**\n",
    "\n",
    "For renaming any directory or file, the `rename() method` takes in two basic arguments: the old name as the first argument and the new name as the second argument."
   ]
  },
  {
   "cell_type": "code",
   "execution_count": 58,
   "metadata": {},
   "outputs": [
    {
     "data": {
      "text/plain": [
       "['.ipynb_checkpoints',\n",
       " 'image',\n",
       " 'iris.txt',\n",
       " 'NB01constant.py',\n",
       " 'NBModule01-GettingStarted.ipynb',\n",
       " 'NBModule02-FlowControl.ipynb',\n",
       " 'NBModule03-Functions.ipynb',\n",
       " 'NBModule04-DataTypes.ipynb',\n",
       " 'NBModule05-FileOperations.ipynb',\n",
       " 'nbsphinx.pdf',\n",
       " 'Renamed_dir',\n",
       " 'subdir',\n",
       " 'test.txt',\n",
       " 'Untitled.ipynb',\n",
       " '__pycache__']"
      ]
     },
     "execution_count": 58,
     "metadata": {},
     "output_type": "execute_result"
    }
   ],
   "source": [
    "os.rename('Newtest_dir', 'Renamed_dir')\n",
    "os.listdir()"
   ]
  },
  {
   "cell_type": "markdown",
   "metadata": {},
   "source": [
    "* **Removing Directory or File**\n",
    "\n",
    "<font color = \"red\"><b>A file</b></font> can be removed (deleted) using the `remove() method`.\n",
    "\n",
    "Similarly, the `rmdir() method` removes an <font color = \"red\"><b>empty directory.</b></font>"
   ]
  },
  {
   "cell_type": "code",
   "execution_count": 59,
   "metadata": {},
   "outputs": [
    {
     "data": {
      "text/plain": [
       "['.ipynb_checkpoints',\n",
       " 'image',\n",
       " 'iris.txt',\n",
       " 'NB01constant.py',\n",
       " 'NBModule01-GettingStarted.ipynb',\n",
       " 'NBModule02-FlowControl.ipynb',\n",
       " 'NBModule03-Functions.ipynb',\n",
       " 'NBModule04-DataTypes.ipynb',\n",
       " 'NBModule05-FileOperations.ipynb',\n",
       " 'nbsphinx.pdf',\n",
       " 'subdir',\n",
       " 'test.txt',\n",
       " 'Untitled.ipynb',\n",
       " '__pycache__']"
      ]
     },
     "execution_count": 59,
     "metadata": {},
     "output_type": "execute_result"
    }
   ],
   "source": [
    "os.rmdir('Renamed_dir')\n",
    "os.listdir()"
   ]
  },
  {
   "cell_type": "markdown",
   "metadata": {},
   "source": [
    "In order **`to remove a non-empty directory`**, we can use the rmtree() method inside the shutil module."
   ]
  },
  {
   "cell_type": "code",
   "execution_count": 68,
   "metadata": {},
   "outputs": [
    {
     "data": {
      "text/plain": [
       "['.ipynb_checkpoints',\n",
       " 'image',\n",
       " 'iris.txt',\n",
       " 'irisdata.txt',\n",
       " 'NB01constant.py',\n",
       " 'NBModule01-GettingStarted.ipynb',\n",
       " 'NBModule02-FlowControl.ipynb',\n",
       " 'NBModule03-Functions.ipynb',\n",
       " 'NBModule04-DataTypes.ipynb',\n",
       " 'NBModule05-FileOperations.ipynb',\n",
       " 'nbsphinx.pdf',\n",
       " 'PythonCarshCourse',\n",
       " 'subdir',\n",
       " 'test.txt',\n",
       " 'Untitled.ipynb',\n",
       " '__pycache__']"
      ]
     },
     "execution_count": 68,
     "metadata": {},
     "output_type": "execute_result"
    }
   ],
   "source": [
    "os.listdir()"
   ]
  },
  {
   "cell_type": "code",
   "execution_count": 69,
   "metadata": {},
   "outputs": [
    {
     "ename": "OSError",
     "evalue": "[WinError 145] The directory is not empty: 'PythonCarshCourse'",
     "output_type": "error",
     "traceback": [
      "\u001b[1;31m---------------------------------------------------------------------------\u001b[0m",
      "\u001b[1;31mOSError\u001b[0m                                   Traceback (most recent call last)",
      "\u001b[1;32m<ipython-input-69-1977e52ee26e>\u001b[0m in \u001b[0;36m<module>\u001b[1;34m\u001b[0m\n\u001b[1;32m----> 1\u001b[1;33m \u001b[0mos\u001b[0m\u001b[1;33m.\u001b[0m\u001b[0mrmdir\u001b[0m\u001b[1;33m(\u001b[0m\u001b[1;34m'PythonCarshCourse'\u001b[0m\u001b[1;33m)\u001b[0m\u001b[1;33m\u001b[0m\u001b[1;33m\u001b[0m\u001b[0m\n\u001b[0m",
      "\u001b[1;31mOSError\u001b[0m: [WinError 145] The directory is not empty: 'PythonCarshCourse'"
     ]
    }
   ],
   "source": [
    "os.rmdir('PythonCarshCourse')"
   ]
  },
  {
   "cell_type": "code",
   "execution_count": 70,
   "metadata": {},
   "outputs": [
    {
     "data": {
      "text/plain": [
       "['.ipynb_checkpoints',\n",
       " 'image',\n",
       " 'iris.txt',\n",
       " 'irisdata.txt',\n",
       " 'NB01constant.py',\n",
       " 'NBModule01-GettingStarted.ipynb',\n",
       " 'NBModule02-FlowControl.ipynb',\n",
       " 'NBModule03-Functions.ipynb',\n",
       " 'NBModule04-DataTypes.ipynb',\n",
       " 'NBModule05-FileOperations.ipynb',\n",
       " 'nbsphinx.pdf',\n",
       " 'subdir',\n",
       " 'test.txt',\n",
       " 'Untitled.ipynb',\n",
       " '__pycache__']"
      ]
     },
     "execution_count": 70,
     "metadata": {},
     "output_type": "execute_result"
    }
   ],
   "source": [
    "import shutil\n",
    "\n",
    "shutil.rmtree('PythonCarshCourse')   # remove this directory and all files in it\n",
    "os.listdir()"
   ]
  },
  {
   "cell_type": "markdown",
   "metadata": {},
   "source": [
    "## 3. Python Errors and Built-in Exceptions"
   ]
  },
  {
   "cell_type": "markdown",
   "metadata": {},
   "source": [
    "We will learn about different types of errors and exceptions that are built-in to Python. They are raised whenever the Python interpreter encounters errors.\n",
    "\n",
    "We can make certain mistakes while writing a program that lead to errors when we try to run it. A python program terminates as soon as it encounters an unhandled error. These errors can be broadly classified into two classes:\n",
    "\n",
    "* Syntax errors\n",
    "* Logical errors (Exceptions)"
   ]
  },
  {
   "cell_type": "markdown",
   "metadata": {},
   "source": [
    "### 3.1. Python Syntax Errors"
   ]
  },
  {
   "cell_type": "markdown",
   "metadata": {},
   "source": [
    "Error caused by not following the proper structure (syntax) of the language is called `syntax error` or `parsing error`.\n",
    "\n",
    "Let's look at one example:"
   ]
  },
  {
   "cell_type": "code",
   "execution_count": 74,
   "metadata": {},
   "outputs": [
    {
     "ename": "SyntaxError",
     "evalue": "unexpected EOF while parsing (<ipython-input-74-6b3caacef50f>, line 1)",
     "output_type": "error",
     "traceback": [
      "\u001b[1;36m  File \u001b[1;32m\"<ipython-input-74-6b3caacef50f>\"\u001b[1;36m, line \u001b[1;32m1\u001b[0m\n\u001b[1;33m    if (a < 3):\u001b[0m\n\u001b[1;37m               ^\u001b[0m\n\u001b[1;31mSyntaxError\u001b[0m\u001b[1;31m:\u001b[0m unexpected EOF while parsing\n"
     ]
    }
   ],
   "source": [
    "if (a < 3):"
   ]
  },
  {
   "cell_type": "markdown",
   "metadata": {},
   "source": [
    "### 3.2. Python Logical Errors (Exceptions)"
   ]
  },
  {
   "cell_type": "markdown",
   "metadata": {},
   "source": [
    "Errors that occur at runtime (after passing the syntax test) are called `exceptions` or `logical errors`.\n",
    "\n",
    "For instance, they occur when we try to open a file(for reading) that does not exist (`FileNotFoundError`), try to divide a number by zero (`ZeroDivisionError`), or try to import a module that does not exist (`ImportError`).\n",
    "\n",
    "Whenever these types of runtime errors occur, Python creates an exception object. If not handled properly, it prints a traceback to that error along with some details about why that error occurred."
   ]
  },
  {
   "cell_type": "code",
   "execution_count": 75,
   "metadata": {},
   "outputs": [
    {
     "ename": "ZeroDivisionError",
     "evalue": "division by zero",
     "output_type": "error",
     "traceback": [
      "\u001b[1;31m---------------------------------------------------------------------------\u001b[0m",
      "\u001b[1;31mZeroDivisionError\u001b[0m                         Traceback (most recent call last)",
      "\u001b[1;32m<ipython-input-75-bc757c3fda29>\u001b[0m in \u001b[0;36m<module>\u001b[1;34m\u001b[0m\n\u001b[1;32m----> 1\u001b[1;33m \u001b[1;36m1\u001b[0m \u001b[1;33m/\u001b[0m \u001b[1;36m0\u001b[0m\u001b[1;33m\u001b[0m\u001b[1;33m\u001b[0m\u001b[0m\n\u001b[0m",
      "\u001b[1;31mZeroDivisionError\u001b[0m: division by zero"
     ]
    }
   ],
   "source": [
    "1 / 0"
   ]
  },
  {
   "cell_type": "code",
   "execution_count": 76,
   "metadata": {},
   "outputs": [
    {
     "ename": "FileNotFoundError",
     "evalue": "[Errno 2] No such file or directory: 'imaginary.txt'",
     "output_type": "error",
     "traceback": [
      "\u001b[1;31m---------------------------------------------------------------------------\u001b[0m",
      "\u001b[1;31mFileNotFoundError\u001b[0m                         Traceback (most recent call last)",
      "\u001b[1;32m<ipython-input-76-416e03b15fa4>\u001b[0m in \u001b[0;36m<module>\u001b[1;34m\u001b[0m\n\u001b[1;32m----> 1\u001b[1;33m \u001b[0mopen\u001b[0m\u001b[1;33m(\u001b[0m\u001b[1;34m\"imaginary.txt\"\u001b[0m\u001b[1;33m)\u001b[0m   \u001b[1;31m# the current directory does not have imaginary.txt\u001b[0m\u001b[1;33m\u001b[0m\u001b[1;33m\u001b[0m\u001b[0m\n\u001b[0m",
      "\u001b[1;31mFileNotFoundError\u001b[0m: [Errno 2] No such file or directory: 'imaginary.txt'"
     ]
    }
   ],
   "source": [
    "open(\"imaginary.txt\")   # the current directory does not have imaginary.txt"
   ]
  },
  {
   "cell_type": "markdown",
   "metadata": {},
   "source": [
    "### 3.3. Python Built-in Exceptions"
   ]
  },
  {
   "cell_type": "markdown",
   "metadata": {},
   "source": [
    "Illegal operations can raise exceptions. There are plenty of built-in exceptions in Python that are raised when corresponding errors occur. We can view all the built-in exceptions using the built-in `local() function` as follows:"
   ]
  },
  {
   "cell_type": "code",
   "execution_count": 77,
   "metadata": {},
   "outputs": [
    {
     "name": "stdout",
     "output_type": "stream",
     "text": [
      "['ArithmeticError', 'AssertionError', 'AttributeError', 'BaseException', 'BlockingIOError', 'BrokenPipeError', 'BufferError', 'BytesWarning', 'ChildProcessError', 'ConnectionAbortedError', 'ConnectionError', 'ConnectionRefusedError', 'ConnectionResetError', 'DeprecationWarning', 'EOFError', 'Ellipsis', 'EnvironmentError', 'Exception', 'False', 'FileExistsError', 'FileNotFoundError', 'FloatingPointError', 'FutureWarning', 'GeneratorExit', 'IOError', 'ImportError', 'ImportWarning', 'IndentationError', 'IndexError', 'InterruptedError', 'IsADirectoryError', 'KeyError', 'KeyboardInterrupt', 'LookupError', 'MemoryError', 'ModuleNotFoundError', 'NameError', 'None', 'NotADirectoryError', 'NotImplemented', 'NotImplementedError', 'OSError', 'OverflowError', 'PendingDeprecationWarning', 'PermissionError', 'ProcessLookupError', 'RecursionError', 'ReferenceError', 'ResourceWarning', 'RuntimeError', 'RuntimeWarning', 'StopAsyncIteration', 'StopIteration', 'SyntaxError', 'SyntaxWarning', 'SystemError', 'SystemExit', 'TabError', 'TimeoutError', 'True', 'TypeError', 'UnboundLocalError', 'UnicodeDecodeError', 'UnicodeEncodeError', 'UnicodeError', 'UnicodeTranslateError', 'UnicodeWarning', 'UserWarning', 'ValueError', 'Warning', 'WindowsError', 'ZeroDivisionError', '__IPYTHON__', '__build_class__', '__debug__', '__doc__', '__import__', '__loader__', '__name__', '__package__', '__spec__', 'abs', 'all', 'any', 'ascii', 'bin', 'bool', 'breakpoint', 'bytearray', 'bytes', 'callable', 'chr', 'classmethod', 'compile', 'complex', 'copyright', 'credits', 'delattr', 'dict', 'dir', 'display', 'divmod', 'enumerate', 'eval', 'exec', 'filter', 'float', 'format', 'frozenset', 'get_ipython', 'getattr', 'globals', 'hasattr', 'hash', 'help', 'hex', 'id', 'input', 'int', 'isinstance', 'issubclass', 'iter', 'len', 'license', 'list', 'locals', 'map', 'max', 'memoryview', 'min', 'next', 'object', 'oct', 'open', 'ord', 'pow', 'print', 'property', 'range', 'repr', 'reversed', 'round', 'set', 'setattr', 'slice', 'sorted', 'staticmethod', 'str', 'sum', 'super', 'tuple', 'type', 'vars', 'zip']\n"
     ]
    }
   ],
   "source": [
    "print(dir(locals()['__builtins__']))"
   ]
  },
  {
   "cell_type": "markdown",
   "metadata": {},
   "source": [
    "`locals()['__builtins__']` returns a module of built-in exceptions, functions, and attributes. dir allows us to list these attributes as strings.\n",
    "\n",
    "Some of the common built-in exceptions in Python programming along with the error that cause them are listed below:"
   ]
  },
  {
   "cell_type": "markdown",
   "metadata": {},
   "source": [
    "|Exception\t|Cause of Error|\n",
    "|:---------|:------------|\n",
    "|AssertionError\t|Raised when an assert statement fails.|\n",
    "|AttributeError\t|Raised when attribute assignment or reference fails.|\n",
    "|EOFError\t|Raised when the input() function hits end-of-file condition.|\n",
    "|FloatingPointError\t|Raised when a floating point operation fails.|\n",
    "|GeneratorExit\t|Raise when a generator's close() method is called.|\n",
    "|ImportError\t|Raised when the imported module is not found.|\n",
    "|IndexError\t|Raised when the index of a sequence is out of range.|\n",
    "|KeyError\t|Raised when a key is not found in a dictionary.|\n",
    "|KeyboardInterrupt\t|Raised when the user hits the interrupt key (Ctrl+C or Delete).|\n",
    "|MemoryError\t|Raised when an operation runs out of memory.|\n",
    "|NameError\t|Raised when a variable is not found in local or global scope.|\n",
    "|NotImplementedError\t|Raised by abstract methods.|\n",
    "|OSError\t|Raised when system operation causes system related error.|\n",
    "|OverflowError\t|Raised when the result of an arithmetic operation is too large to be represented.|\n",
    "|ReferenceError\t|Raised when a weak reference proxy is used to access a garbage collected referent.|\n",
    "|RuntimeError\t|Raised when an error does not fall under any other category.|\n",
    "|StopIteration\t|Raised by next() function to indicate that there is no further item to be returned by iterator.|\n",
    "|SyntaxError\t|Raised by parser when syntax error is encountered.|\n",
    "|IndentationError\t|Raised when there is incorrect indentation.|\n",
    "|TabError\t|Raised when indentation consists of inconsistent tabs and spaces.|\n",
    "|SystemError\t|Raised when interpreter detects internal error.|\n",
    "|SystemExit\t|Raised by sys.exit() function.|\n",
    "|TypeError\t|Raised when a function or operation is applied to an object of incorrect type.|\n",
    "|UnboundLocalError\t|Raised when a reference is made to a local variable in a function or method, but no value has been bound to that variable.|\n",
    "|UnicodeError\t|Raised when a Unicode-related encoding or decoding error occurs.|\n",
    "|UnicodeEncodeError\t|Raised when a Unicode-related error occurs during encoding.|\n",
    "|UnicodeDecodeError\t|Raised when a Unicode-related error occurs during decoding.|\n",
    "|UnicodeTranslateError\t|Raised when a Unicode-related error occurs during translating.|\n",
    "|ValueError\t|Raised when a function gets an argument of correct type but improper value.|\n",
    "|ZeroDivisionError\t|Raised when the second operand of division or modulo operation is zero.|"
   ]
  },
  {
   "cell_type": "markdown",
   "metadata": {},
   "source": [
    "## 4. Exception Handling"
   ]
  },
  {
   "cell_type": "markdown",
   "metadata": {},
   "source": [
    "We'll learn how to handle exceptions in your Python program using try, except and finally statements with the help of examples.\n",
    "\n"
   ]
  },
  {
   "cell_type": "markdown",
   "metadata": {},
   "source": [
    "### 4.1. Exceptions in Python"
   ]
  },
  {
   "cell_type": "markdown",
   "metadata": {},
   "source": [
    "Python has many `built-in` exceptions that are raised when the program encounters an error (something in the program goes wrong).\n",
    "\n",
    "When these exceptions occur, the Python interpreter stops the current process and passes it to the calling process until it is handled. If not handled, the program will crash.\n",
    "\n",
    "For example, let us consider a program where we have a function A that calls function B, which in turn calls function C. If an exception occurs in function C but is not handled in C, the exception passes to B and then to A.\n",
    "\n",
    "If never handled, an error message is displayed and our program comes to a sudden unexpected halt."
   ]
  },
  {
   "cell_type": "markdown",
   "metadata": {},
   "source": [
    "### 4.2 Catching Exceptions "
   ]
  },
  {
   "cell_type": "markdown",
   "metadata": {},
   "source": [
    "In Python, exceptions can be handled using a `try statement`.\n",
    "\n",
    "The critical operation which can raise an exception is placed inside the `try clause`. The code that handles the exceptions is written in the `except clause`.\n",
    "\n",
    "We can thus choose what operations to perform once we have caught the exception. Here is a simple example."
   ]
  },
  {
   "cell_type": "code",
   "execution_count": 10,
   "metadata": {},
   "outputs": [
    {
     "name": "stdout",
     "output_type": "stream",
     "text": [
      "The entry is a\n",
      "Oops! <class 'ValueError'> occurred.\n",
      "Oops! invalid literal for int() with base 10: 'a' occurred.\n",
      "Oops! <traceback object at 0x000002A6A2B9A408> occurred.\n",
      "Next entry.\n",
      "\n",
      "The entry is 0\n",
      "Oops! <class 'ZeroDivisionError'> occurred.\n",
      "Oops! division by zero occurred.\n",
      "Oops! <traceback object at 0x000002A6A2B9A408> occurred.\n",
      "Next entry.\n",
      "\n",
      "The entry is 2\n",
      "The reciprocal of 2 is 0.5\n"
     ]
    }
   ],
   "source": [
    "# import module sys to get the type of exception\n",
    "import sys                  # sys is a Python module\n",
    "\n",
    "randomList = ['a', 0, 2]    # define a list with different types of values\n",
    "\n",
    "for entry in randomList:\n",
    "    try:    \n",
    "        print(\"The entry is\", entry)    # No exception could occur here\n",
    "        r = 1/int(entry)                # Possible place where exception could occur.\n",
    "        break                           # if an exception occurs, \n",
    "    except:\n",
    "        print(\"Oops!\", sys.exc_info()[0], \"occurred.\")  # exc_info()-> a function in module `sys` that report exeception info.\n",
    "        print(\"Oops!\", sys.exc_info()[1], \"occurred.\")\n",
    "        print(\"Oops!\", sys.exc_info()[2], \"occurred.\")\n",
    "        print(\"Next entry.\")\n",
    "        print()\n",
    "print(\"The reciprocal of\", entry, \"is\", r)"
   ]
  },
  {
   "cell_type": "markdown",
   "metadata": {},
   "source": [
    "In the above program, we loop through the values of the randomList list. As previously mentioned, `the portion that can cause an exception is placed inside the try block`.\n",
    "\n",
    "<font color = \"red\">If no exception occurs, the except block is skipped and normal flow continues(for last value).</font? But if any exception occurs, it is caught by the except block (first and second values)."
   ]
  },
  {
   "cell_type": "markdown",
   "metadata": {},
   "source": [
    "We print the name of the exception using the `exc_info() function` inside sys module. We can see that `a` causes `ValueError` and `0` causes ZeroDivisionError."
   ]
  },
  {
   "cell_type": "code",
   "execution_count": 7,
   "metadata": {},
   "outputs": [
    {
     "name": "stdout",
     "output_type": "stream",
     "text": [
      "The entry is a\n",
      "Oops! <class 'ValueError'> occurred.\n",
      "Next entry.\n",
      "\n",
      "The entry is 0\n",
      "Oops! <class 'ZeroDivisionError'> occurred.\n",
      "Next entry.\n",
      "\n",
      "The entry is 2\n",
      "The reciprocal of 2 is 0.5\n"
     ]
    }
   ],
   "source": [
    "# import module sys to get the type of exception\n",
    "import sys\n",
    "\n",
    "randomList = ['a', 0, 2]\n",
    "\n",
    "for entry in randomList:\n",
    "    try:\n",
    "        print(\"The entry is\", entry)\n",
    "        r = 1/int(entry)\n",
    "        break\n",
    "    except Exception as e:\n",
    "        print(\"Oops!\", e.__class__, \"occurred.\")\n",
    "        print(\"Next entry.\")\n",
    "        print()\n",
    "print(\"The reciprocal of\", entry, \"is\", r)"
   ]
  },
  {
   "cell_type": "markdown",
   "metadata": {},
   "source": [
    "Here is another example."
   ]
  },
  {
   "cell_type": "code",
   "execution_count": 16,
   "metadata": {},
   "outputs": [
    {
     "name": "stdout",
     "output_type": "stream",
     "text": [
      "class =  <class 'ValueError'>\n",
      "error name =  math domain error\n",
      "trace =  <traceback object at 0x0000026DF15E66C8>\n"
     ]
    }
   ],
   "source": [
    "import sys\n",
    "import math\n",
    "a= 2\n",
    "b= 2\n",
    "c= 1\n",
    "try:\n",
    "    x1 = (- b + math.sqrt(b*b + 4*a*c))/(2*a)\n",
    "    x2 = (- b - math.sqrt(b*b - 4*a*c))/(2*a)\n",
    "    print(\"x1 = \", x1)\n",
    "    print(\"x2 = \", x2)\n",
    "except:\n",
    "    c, n, t = sys.exc_info()\n",
    "    print(\"class = \", c)\n",
    "    print(\"error name = \", n)\n",
    "    print(\"trace = \", t)"
   ]
  },
  {
   "cell_type": "markdown",
   "metadata": {},
   "source": [
    "### 4.3. Raising Exceptions"
   ]
  },
  {
   "cell_type": "markdown",
   "metadata": {},
   "source": [
    "In Python programming, exceptions are raised when errors occur at runtime. We can also manually raise exceptions using the raise keyword.\n",
    "\n",
    "We can optionally pass values to the exception to clarify why that exception was raised."
   ]
  },
  {
   "cell_type": "code",
   "execution_count": 22,
   "metadata": {},
   "outputs": [
    {
     "name": "stdout",
     "output_type": "stream",
     "text": [
      "Enter a positive integer: r\n",
      "invalid literal for int() with base 10: 'r'\n"
     ]
    }
   ],
   "source": [
    "try:\n",
    "  a = int(input(\"Enter a positive integer: \"))\n",
    "  if a <= 0:\n",
    "    raise ValueError(\"That is not a positive number!\")\n",
    "except ValueError as ve:\n",
    "    print(ve)"
   ]
  },
  {
   "cell_type": "markdown",
   "metadata": {},
   "source": [
    "## 5. User-Defined Exception"
   ]
  },
  {
   "cell_type": "markdown",
   "metadata": {},
   "source": [
    "Python has numerous built-in exceptions that force your program to output an error when something in the program goes wrong.\n",
    "\n",
    "However, sometimes we may need to create our own custom exceptions that serve our purpose."
   ]
  },
  {
   "cell_type": "markdown",
   "metadata": {},
   "source": [
    "Users can define custom exceptions by creating a new class. This exception class has to be derived, either directly or indirectly, from the built-in Exception class. Most of the built-in exceptions are also derived from this class."
   ]
  },
  {
   "cell_type": "markdown",
   "metadata": {},
   "source": [
    "User-defined exception class can implement everything a normal class can do, but we generally make them simple and concise. Most implementations declare a custom base class and derive others exception classes from this base class. This concept is made clearer in the following example."
   ]
  },
  {
   "cell_type": "code",
   "execution_count": null,
   "metadata": {},
   "outputs": [],
   "source": [
    "# guess this number\n",
    "number = 10\n",
    "\n",
    "# user guesses a number and the following code will until he/she gets it right\n",
    "while True:\n",
    "    try:\n",
    "        i_num = int(input(\"Enter a number: \"))\n",
    "        if i_num < number:\n",
    "            raise ValueTooSmallError\n",
    "        elif i_num > number:\n",
    "            raise ValueTooLargeError\n",
    "        break\n",
    "    except ValueTooSmallError:\n",
    "        print(\"This value is too small, try again!\")\n",
    "        print()\n",
    "    except ValueTooLargeError:\n",
    "        print(\"This value is too large, try again!\")\n",
    "        print()\n",
    "\n",
    "print(\"Congratulations! You guessed it correctly.\")"
   ]
  }
 ],
 "metadata": {
  "kernelspec": {
   "display_name": "Python 3",
   "language": "python",
   "name": "python3"
  },
  "language_info": {
   "codemirror_mode": {
    "name": "ipython",
    "version": 3
   },
   "file_extension": ".py",
   "mimetype": "text/x-python",
   "name": "python",
   "nbconvert_exporter": "python",
   "pygments_lexer": "ipython3",
   "version": "3.7.3"
  },
  "latex_envs": {
   "LaTeX_envs_menu_present": true,
   "autoclose": false,
   "autocomplete": true,
   "bibliofile": "biblio.bib",
   "cite_by": "apalike",
   "current_citInitial": 1,
   "eqLabelWithNumbers": true,
   "eqNumInitial": 1,
   "hotkeys": {
    "equation": "Ctrl-E",
    "itemize": "Ctrl-I"
   },
   "labels_anchors": false,
   "latex_user_defs": false,
   "report_style_numbering": false,
   "user_envs_cfg": false
  },
  "toc": {
   "base_numbering": "",
   "nav_menu": {},
   "number_sections": false,
   "sideBar": true,
   "skip_h1_title": false,
   "title_cell": "Table of Contents",
   "title_sidebar": "I/O and Exception Handling",
   "toc_cell": false,
   "toc_position": {},
   "toc_section_display": true,
   "toc_window_display": true
  },
  "varInspector": {
   "cols": {
    "lenName": 16,
    "lenType": 16,
    "lenVar": 40
   },
   "kernels_config": {
    "python": {
     "delete_cmd_postfix": "",
     "delete_cmd_prefix": "del ",
     "library": "var_list.py",
     "varRefreshCmd": "print(var_dic_list())"
    },
    "r": {
     "delete_cmd_postfix": ") ",
     "delete_cmd_prefix": "rm(",
     "library": "var_list.r",
     "varRefreshCmd": "cat(var_dic_list()) "
    }
   },
   "types_to_exclude": [
    "module",
    "function",
    "builtin_function_or_method",
    "instance",
    "_Feature"
   ],
   "window_display": false
  }
 },
 "nbformat": 4,
 "nbformat_minor": 2
}
