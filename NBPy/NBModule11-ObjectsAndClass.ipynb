{
 "cells": [
  {
   "cell_type": "markdown",
   "metadata": {},
   "source": [
    " <center><font size = 5><b>Module 09: Python Object and Class</b></font></center>"
   ]
  },
  {
   "cell_type": "markdown",
   "metadata": {},
   "source": [
    "This module is primarily based on the web site: https://www.programiz.com/python-programming/operators"
   ]
  },
  {
   "cell_type": "markdown",
   "metadata": {},
   "source": [
    "In this module, we discussion Python object and class."
   ]
  },
  {
   "cell_type": "markdown",
   "metadata": {},
   "source": [
    "## 1. Object Oriented Programming"
   ]
  },
  {
   "cell_type": "markdown",
   "metadata": {},
   "source": [
    "In this section, we'll learn about Object-Oriented Programming (OOP) in Python and its fundamental concept "
   ]
  },
  {
   "cell_type": "markdown",
   "metadata": {},
   "source": [
    "### 1.1. Object Oriented Programming"
   ]
  },
  {
   "cell_type": "markdown",
   "metadata": {},
   "source": [
    "Python is a multi-paradigm programming language. It supports different programming approaches.\n",
    "\n",
    "One of the popular approaches to solve a programming problem is by creating objects. This is known as `Object-Oriented Programming (OOP)`.\n",
    "\n",
    "An object has two characteristics:\n",
    "\n",
    "1. attributes\n",
    "\n",
    "2. behavior"
   ]
  },
  {
   "cell_type": "markdown",
   "metadata": {},
   "source": [
    "Here is a non-programmatical example:"
   ]
  },
  {
   "cell_type": "markdown",
   "metadata": {},
   "source": [
    "**A parrot is an object, as it has the following properties:**\n",
    "\n",
    "1. name, age, color as attributes\n",
    "\n",
    "2. singing, dancing as behavior\n",
    "\n",
    "The concept of OOP in Python focuses on creating reusable code. This concept is also known as DRY (Don't Repeat Yourself)."
   ]
  },
  {
   "cell_type": "markdown",
   "metadata": {},
   "source": [
    "### 1.2. Class"
   ]
  },
  {
   "cell_type": "markdown",
   "metadata": {},
   "source": [
    "A class is a blueprint for the object.\n",
    "\n",
    "We can think of class as a sketch of a parrot with labels. It contains all the details about the name, colors, size etc. Based on these descriptions, we can study about the parrot. Here, a parrot is an object."
   ]
  },
  {
   "cell_type": "markdown",
   "metadata": {},
   "source": [
    "`class Parrot:\n",
    "    pass`"
   ]
  },
  {
   "cell_type": "markdown",
   "metadata": {},
   "source": [
    "Here, we use the class keyword to define an empty class Parrot. From class, we construct instances. An instance is a specific object created from a particular class."
   ]
  },
  {
   "cell_type": "code",
   "execution_count": 36,
   "metadata": {},
   "outputs": [
    {
     "name": "stdout",
     "output_type": "stream",
     "text": [
      "<class '__main__.Parrot'>\n"
     ]
    }
   ],
   "source": [
    "class Parrot:        # use the *keyword class* to create a *class*\n",
    "  species = \"bird\"          # attribute of the class\n",
    "print(Parrot)        # "
   ]
  },
  {
   "cell_type": "markdown",
   "metadata": {},
   "source": [
    "### 1.3. Object"
   ]
  },
  {
   "cell_type": "markdown",
   "metadata": {},
   "source": [
    "An object (instance) is an instantiation of a class. When class is defined, only the description for the object is defined. Therefore, no memory or storage is allocated.\n",
    "\n",
    "The example for object of parrot class can be:\n",
    "\n",
    "`\n",
    "obj = Parrot()\n",
    "`\n",
    "\n",
    "Here, obj is an object of class Parrot.\n",
    "\n"
   ]
  },
  {
   "cell_type": "code",
   "execution_count": 37,
   "metadata": {},
   "outputs": [
    {
     "name": "stdout",
     "output_type": "stream",
     "text": [
      "bird\n"
     ]
    }
   ],
   "source": [
    "# definition of class\n",
    "class Parrot:        # use the *keyword class* to create a *class*\n",
    "  species = \"bird\"          # attribute of the class\n",
    "\n",
    "# Create an object named p1:\n",
    "p1 = Parrot()\n",
    "\n",
    "# Print the value of x:\n",
    "print(p1.species)"
   ]
  },
  {
   "cell_type": "markdown",
   "metadata": {},
   "source": [
    "Suppose we have details of parrots. Now, we are going to show how to build the class and objects of parrots."
   ]
  },
  {
   "cell_type": "markdown",
   "metadata": {},
   "source": [
    "* **The `__init__()` Function**\n",
    "\n",
    "The examples above are classes and objects in their simplest form, and are not really useful in real life applications.\n",
    "\n",
    "To understand the meaning of classes we have to understand the built-in `__init__() function`.\n",
    "\n",
    "<b>All classes</b> have a function called `__init__()`, which is always executed when the class is being initiated.\n",
    "\n",
    "Use the `__init__() function` to assign values to object properties, or other operations that are necessary to do when the object is being created:"
   ]
  },
  {
   "cell_type": "code",
   "execution_count": 30,
   "metadata": {},
   "outputs": [
    {
     "name": "stdout",
     "output_type": "stream",
     "text": [
      "Blu 10\n",
      "bird\n"
     ]
    }
   ],
   "source": [
    "class Parrot:                          ## define a class names Parrot\n",
    "    # class attribute\n",
    "    species = \"bird\"\n",
    "    # instance attribute\n",
    "    def __init__(self, name, age):     \n",
    "        self.name = name\n",
    "        self.age = age\n",
    "        \n",
    "# instantiate the Parrot class: define object `blu` from class paarrot!\n",
    "blu = Parrot(\"Blu\", 10)\n",
    "\n",
    "# Print out the instance and class attributes\n",
    "print(blu.name, blu.age)       # access instance attributes\n",
    "print(blu.__class__.species)   # access class attribute\n"
   ]
  },
  {
   "cell_type": "markdown",
   "metadata": {},
   "source": [
    "* **The `self` Parameter**\n",
    "\n",
    "The `self parameter` is a reference to the current instance of the class, and is used to access variables that belongs to the class.\n",
    "\n",
    "It does not have to be named `self` , you can call it whatever you like, but `it has to be the first parameter` of any function in the class:\n",
    "\n",
    "Use the words `instancefeature` and `abcdef` instead of `self`:"
   ]
  },
  {
   "cell_type": "code",
   "execution_count": 50,
   "metadata": {},
   "outputs": [
    {
     "name": "stdout",
     "output_type": "stream",
     "text": [
      "The bird is blue and 36 months old.\n"
     ]
    }
   ],
   "source": [
    "class Parrot:                                    # class Parrot\n",
    "   species = \"bird\"                                               \n",
    "   ## \n",
    "   def __init__(instancefeature, name, age):     # instance \n",
    "      instancefeature.name = name\n",
    "      instancefeature.age = age\n",
    "   ##\n",
    "   def myfunc(abcdef):                           # \n",
    "    print(\"The bird is \" + abcdef.name + \" and\", abcdef.age, \"months old.\")\n",
    "\n",
    "##\n",
    "p1 = Parrot(\"blue\", 36)\n",
    "p1.myfunc()"
   ]
  },
  {
   "cell_type": "markdown",
   "metadata": {},
   "source": [
    "* **Modify Object Properties**\n",
    "\n",
    "We can modify properties on objects like this."
   ]
  },
  {
   "cell_type": "code",
   "execution_count": 53,
   "metadata": {},
   "outputs": [
    {
     "name": "stdout",
     "output_type": "stream",
     "text": [
      "The bird is blue and 40 months old.\n"
     ]
    }
   ],
   "source": [
    "p1.age = 40\n",
    "p1.myfunc()"
   ]
  },
  {
   "cell_type": "markdown",
   "metadata": {},
   "source": [
    "* **Delete Object Properties**\n",
    "\n",
    "\n",
    "You can delete properties on objects by using the `del keyword`.  The following example deletes the age property from the p1 object.\n",
    "        "
   ]
  },
  {
   "cell_type": "code",
   "execution_count": 56,
   "metadata": {},
   "outputs": [
    {
     "ename": "AttributeError",
     "evalue": "age",
     "output_type": "error",
     "traceback": [
      "\u001b[1;31m---------------------------------------------------------------------------\u001b[0m",
      "\u001b[1;31mAttributeError\u001b[0m                            Traceback (most recent call last)",
      "\u001b[1;32m<ipython-input-56-38ec69e73e64>\u001b[0m in \u001b[0;36m<module>\u001b[1;34m\u001b[0m\n\u001b[1;32m----> 1\u001b[1;33m \u001b[1;32mdel\u001b[0m \u001b[0mp1\u001b[0m\u001b[1;33m.\u001b[0m\u001b[0mage\u001b[0m\u001b[1;33m\u001b[0m\u001b[1;33m\u001b[0m\u001b[0m\n\u001b[0m\u001b[0;32m      2\u001b[0m \u001b[0mp1\u001b[0m\u001b[1;33m.\u001b[0m\u001b[0mmyfunc\u001b[0m\u001b[1;33m(\u001b[0m\u001b[1;33m)\u001b[0m     \u001b[1;31m# this generates AttributeError since the instance attribute age was deleted\u001b[0m\u001b[1;33m\u001b[0m\u001b[1;33m\u001b[0m\u001b[0m\n",
      "\u001b[1;31mAttributeError\u001b[0m: age"
     ]
    }
   ],
   "source": [
    "del p1.age\n",
    "p1.myfunc()     # this generates AttributeError since the instance attribute age was deleted"
   ]
  },
  {
   "cell_type": "markdown",
   "metadata": {},
   "source": [
    "* **The Placeholders and format()**\n",
    "\n",
    "The placeholders \n",
    "The format() method formats the specified value(s) and insert them inside the string's placeholder.\n",
    "\n",
    "The placeholder is defined using curly brackets: {}. It can be identified using named indexes {var_name}, numbered indexes {0}, or even empty placeholders {}.\n",
    "\n",
    "\n",
    "The format() method returns the formatted string.\n",
    "\n"
   ]
  },
  {
   "cell_type": "code",
   "execution_count": 64,
   "metadata": {},
   "outputs": [
    {
     "name": "stdout",
     "output_type": "stream",
     "text": [
      "Woo is also a bird\n",
      "Woo is 15 years old\n"
     ]
    }
   ],
   "source": [
    "class Parrot:\n",
    "\n",
    "    # class attribute\n",
    "    species = \"bird\"\n",
    "\n",
    "    # instance attribute\n",
    "    def __init__(self, name, age):\n",
    "        self.name = name\n",
    "        self.age = age\n",
    "\n",
    "# instantiate the Parrot class\n",
    "woo = Parrot(\"Woo\", 15)\n",
    "\n",
    "# access the class attributes\n",
    "print(\"Woo is also a {}\".format(woo.__class__.species))\n",
    "\n",
    "# access the instance attributes\n",
    "print(\"{} is {} years old\".format(woo.name, woo.age))"
   ]
  },
  {
   "cell_type": "markdown",
   "metadata": {},
   "source": [
    "* **Delete Objects**\n",
    "\n",
    "We can delete objects by using the `del keyword`.\n"
   ]
  },
  {
   "cell_type": "code",
   "execution_count": 58,
   "metadata": {},
   "outputs": [
    {
     "ename": "NameError",
     "evalue": "name 'p1' is not defined",
     "output_type": "error",
     "traceback": [
      "\u001b[1;31m---------------------------------------------------------------------------\u001b[0m",
      "\u001b[1;31mNameError\u001b[0m                                 Traceback (most recent call last)",
      "\u001b[1;32m<ipython-input-58-297e493582b5>\u001b[0m in \u001b[0;36m<module>\u001b[1;34m\u001b[0m\n\u001b[0;32m      2\u001b[0m \u001b[1;32mdel\u001b[0m \u001b[0mp1\u001b[0m\u001b[1;33m\u001b[0m\u001b[1;33m\u001b[0m\u001b[0m\n\u001b[0;32m      3\u001b[0m \u001b[1;31m##\u001b[0m\u001b[1;33m\u001b[0m\u001b[1;33m\u001b[0m\u001b[1;33m\u001b[0m\u001b[0m\n\u001b[1;32m----> 4\u001b[1;33m \u001b[0mp1\u001b[0m\u001b[1;33m.\u001b[0m\u001b[0mmyfunc\u001b[0m\u001b[1;33m(\u001b[0m\u001b[1;33m)\u001b[0m    \u001b[1;31m# NameError - since the object p1 was deleted.\u001b[0m\u001b[1;33m\u001b[0m\u001b[1;33m\u001b[0m\u001b[0m\n\u001b[0m",
      "\u001b[1;31mNameError\u001b[0m: name 'p1' is not defined"
     ]
    }
   ],
   "source": [
    "p1 = Parrot(\"blue\", 36)\n",
    "del p1\n",
    "##\n",
    "p1.myfunc()    # NameError - since the object p1 was deleted."
   ]
  },
  {
   "cell_type": "markdown",
   "metadata": {},
   "source": [
    "### 1.4. Methods"
   ]
  },
  {
   "cell_type": "markdown",
   "metadata": {},
   "source": [
    "<font color = \"red\"><b>Methods are functions</b></font> defined `inside the body of a class`. <b>They are used to define the behaviors of an object</b>."
   ]
  },
  {
   "cell_type": "code",
   "execution_count": 66,
   "metadata": {},
   "outputs": [
    {
     "name": "stdout",
     "output_type": "stream",
     "text": [
      "Blu sings 'Happy'\n",
      "Blu sings \"Happy\"\n",
      "Blu is now dancing\n"
     ]
    }
   ],
   "source": [
    "class Parrot:\n",
    "    \n",
    "    # instance attributes\n",
    "    def __init__(self, name, age):\n",
    "        self.name = name\n",
    "        self.age = age\n",
    "    \n",
    "    # instance method\n",
    "    def sing(self, song):\n",
    "        return \"{} sings {}\".format(self.name, song)\n",
    "\n",
    "    def dance(self):\n",
    "        return \"{} is now dancing\".format(self.name)\n",
    "\n",
    "# instantiate (define) the object\n",
    "blu = Parrot(\"Blu\", 10)\n",
    "\n",
    "# call our instance methods\n",
    "print(blu.sing(\"'Happy'\")) \n",
    "print(blu.sing('\"Happy\"')) \n",
    "print(blu.dance())"
   ]
  },
  {
   "cell_type": "markdown",
   "metadata": {},
   "source": [
    "In the above code, we define two `methods` i.e `sing()` and `dance()`. These are called instance methods because they are called on an instance object i.e `blu`."
   ]
  },
  {
   "cell_type": "markdown",
   "metadata": {},
   "source": [
    "### 1.5. Inheritance"
   ]
  },
  {
   "cell_type": "markdown",
   "metadata": {},
   "source": [
    "\n",
    "`Inheritance` is a way of creating a `new class` for using details of an `existing` class `without modifying` it. The newly formed class is a derived class (or child class). Similarly, the existing class is a base class (or parent class).\n",
    "\n",
    "To create a class that will inherit all the methods and properties from another class, we need to use a built-in function `super()`. The `super() function`is used to give access to methods and properties of a parent or sibling class.\n",
    "\n",
    "The super() function returns an object that represents the parent class."
   ]
  },
  {
   "cell_type": "markdown",
   "metadata": {},
   "source": [
    "The following is a simple example."
   ]
  },
  {
   "cell_type": "code",
   "execution_count": 72,
   "metadata": {},
   "outputs": [
    {
     "name": "stdout",
     "output_type": "stream",
     "text": [
      "Hello, and welcome!\n"
     ]
    }
   ],
   "source": [
    "# Parent class\n",
    "class Parent:\n",
    "  def __init__(self, txt):\n",
    "    self.txt = txt\n",
    "\n",
    "  def printmessage(self):\n",
    "    print(self.txt)\n",
    "\n",
    "# child class\n",
    "class Child(Parent):\n",
    "  def __init__(self, txt):\n",
    "    super().__init__(txt)\n",
    "\n",
    "# instantiate an object from the child class\n",
    "x = Child(\"Hello, and welcome!\")\n",
    "\n",
    "# access the method in the Parent class via child class\n",
    "x.printmessage()"
   ]
  },
  {
   "cell_type": "markdown",
   "metadata": {},
   "source": [
    "Here is another example"
   ]
  },
  {
   "cell_type": "code",
   "execution_count": 73,
   "metadata": {},
   "outputs": [
    {
     "name": "stdout",
     "output_type": "stream",
     "text": [
      "Bird is ready\n",
      "Penguin is ready\n",
      "Penguin\n",
      "Swim faster\n",
      "Run faster\n"
     ]
    }
   ],
   "source": [
    "# parent class\n",
    "class Bird:\n",
    "    \n",
    "    def __init__(self):\n",
    "        print(\"Bird is ready\")\n",
    "\n",
    "    def whoisThis(self):         \n",
    "        print(\"Bird\")\n",
    "\n",
    "    def swim(self):\n",
    "        print(\"Swim faster\")\n",
    "\n",
    "# child class\n",
    "class Penguin(Bird):\n",
    "\n",
    "    def __init__(self):\n",
    "        # call super() function\n",
    "        super().__init__()\n",
    "        print(\"Penguin is ready\")\n",
    "\n",
    "    def whoisThis(self):\n",
    "        print(\"Penguin\")\n",
    "\n",
    "    def run(self):\n",
    "        print(\"Run faster\")\n",
    "\n",
    "peggy = Penguin()\n",
    "peggy.whoisThis()\n",
    "peggy.swim()\n",
    "peggy.run()"
   ]
  },
  {
   "cell_type": "markdown",
   "metadata": {},
   "source": [
    "In the above program, we created two classes i.e. Bird (`parent class`) and Penguin (`child class`). The `child class` inherits the functions of `parent class`. We can see this from the swim() method.\n",
    "\n",
    "Again, the child class modified the behavior of the parent class. We can see this from the `whoisThis() method`. Furthermore, we extend the functions of the parent class, by creating a `new run() method`.\n",
    "\n",
    "Additionally, we use the `super() function` inside the `__init__() method`. This allows us to run the `__init__() method` of the parent class inside the child class."
   ]
  },
  {
   "cell_type": "markdown",
   "metadata": {},
   "source": [
    "### 1.6. Encapsulation"
   ]
  },
  {
   "cell_type": "markdown",
   "metadata": {},
   "source": [
    "Using OOP in Python, we can `restrict access to methods and variables`. This prevents data from direct modification which is called encapsulation. In Python, we denote `private attributes` using underscore as the prefix i.e `single _` or `double __`"
   ]
  },
  {
   "cell_type": "code",
   "execution_count": 74,
   "metadata": {},
   "outputs": [
    {
     "name": "stdout",
     "output_type": "stream",
     "text": [
      "Selling Price: 900\n",
      "Selling Price: 900\n",
      "Selling Price: 1000\n"
     ]
    }
   ],
   "source": [
    "class Computer:\n",
    "\n",
    "    def __init__(self):\n",
    "        self.__maxprice = 900\n",
    "\n",
    "    def sell(self):\n",
    "        print(\"Selling Price: {}\".format(self.__maxprice))\n",
    "\n",
    "    def setMaxPrice(self, price):      # \n",
    "        self.__maxprice = price\n",
    "\n",
    "c = Computer()\n",
    "c.sell()\n",
    "\n",
    "# change the price\n",
    "c.__maxprice = 1000\n",
    "c.sell()\n",
    "\n",
    "# using setter function\n",
    "c.setMaxPrice(1000)\n",
    "c.sell()"
   ]
  },
  {
   "cell_type": "markdown",
   "metadata": {},
   "source": [
    "In the above program, we defined a Computer class.\n",
    "\n",
    "We used __init__() method to store the maximum selling price of Computer. We tried to modify the price. However, we can't change it because Python treats the __maxprice as private attributes.\n",
    "\n",
    "As shown, to change the value, we have to use a setter function i.e setMaxPrice() which takes price as a parameter."
   ]
  },
  {
   "cell_type": "markdown",
   "metadata": {},
   "source": [
    "### 1.7. Polymorphism"
   ]
  },
  {
   "cell_type": "markdown",
   "metadata": {},
   "source": [
    "Polymorphism is an ability (in OOP) to use a common interface for multiple forms (data types).\n",
    "\n",
    "Suppose, we need to color a shape, there are multiple shape options (rectangle, square, circle). However we could use the same method to color any shape. This concept is called Polymorphism."
   ]
  },
  {
   "cell_type": "code",
   "execution_count": 75,
   "metadata": {},
   "outputs": [
    {
     "name": "stdout",
     "output_type": "stream",
     "text": [
      "Parrot can fly\n",
      "Penguin can't fly\n"
     ]
    }
   ],
   "source": [
    "class Parrot:\n",
    "\n",
    "    def fly(self):\n",
    "        print(\"Parrot can fly\")\n",
    "    \n",
    "    def swim(self):\n",
    "        print(\"Parrot can't swim\")\n",
    "\n",
    "class Penguin:\n",
    "\n",
    "    def fly(self):\n",
    "        print(\"Penguin can't fly\")\n",
    "    \n",
    "    def swim(self):\n",
    "        print(\"Penguin can swim\")\n",
    "\n",
    "# common interface\n",
    "def flying_test(bird):\n",
    "    bird.fly()\n",
    "\n",
    "#instantiate objects\n",
    "blu = Parrot()\n",
    "peggy = Penguin()\n",
    "\n",
    "# passing the object\n",
    "flying_test(blu)\n",
    "flying_test(peggy)"
   ]
  },
  {
   "cell_type": "markdown",
   "metadata": {},
   "source": [
    "In the above program, we defined two classes Parrot and Penguin. Each of them have a common fly() method. However, their functions are different.\n",
    "\n",
    "To use polymorphism, we created a common interface i.e flying_test() function that takes any object and calls the object's fly() method. Thus, when we passed the blu and peggy objects in the flying_test() function, it ran effectively."
   ]
  },
  {
   "cell_type": "markdown",
   "metadata": {},
   "source": [
    "### 1.8. Summary\n"
   ]
  },
  {
   "cell_type": "markdown",
   "metadata": {},
   "source": [
    "* Object-Oriented Programming makes the program easy to understand as well as efficient.\n",
    "\n",
    "* Since the class is sharable, the code can be reused.\n",
    "\n",
    "* Data is safe and secure with data abstraction.\n",
    "\n",
    "* Polymorphism allows the same interface for different objects, so programmers can write efficient code."
   ]
  },
  {
   "cell_type": "markdown",
   "metadata": {},
   "source": [
    "## 2. Class"
   ]
  },
  {
   "cell_type": "markdown",
   "metadata": {},
   "source": [
    "We have briefly descibed Python class. In this section, we  will learn about the core functionality of Python objects and classes. Weu'll learn what a class is, how to create it and use it in our program"
   ]
  },
  {
   "cell_type": "markdown",
   "metadata": {},
   "source": [
    "Python is an object oriented programming language. Unlike procedure oriented programming, where the main emphasis is on functions, object oriented programming stresses on objects.\n",
    "\n",
    "`An object` is simply a collection of `data (variables)` and `methods (functions)` that act on those data. Similarly, a class is a `blueprint` for that object.\n",
    "\n",
    "We can think of class as a sketch (prototype) of a house. It contains all the details about the floors, doors, windows etc. Based on these descriptions we build the house. House is the object.\n",
    "\n",
    "As many houses can be made from a house's blueprint, we can create many objects from a class. An object is also called an instance of a class and **the process of creating this object is called instantiation.**"
   ]
  },
  {
   "cell_type": "markdown",
   "metadata": {},
   "source": [
    "### 2.1. Defining a Class "
   ]
  },
  {
   "cell_type": "markdown",
   "metadata": {},
   "source": [
    "Like function definitions begin with the def keyword in Python, class definitions begin with a class keyword.\n",
    "\n",
    "The first string inside the class is called docstring and has a brief description about the class. Although not mandatory, this is highly recommended.\n",
    "\n",
    "Here is a simple class definition.\n",
    "\n",
    "`\n",
    "class MyNewClass:\n",
    "    '''This is a docstring. I have created a new class'''\n",
    "    pass\n",
    "`\n",
    "    \n",
    "A class creates a `new local namespace` where all its attributes are defined. Attributes may be `data (variable) or functions`.\n",
    "\n",
    "There are also `special attributes` in it that begins with `double underscores __`. For example, `__doc__` gives us the **docstring of that class**.\n",
    "\n",
    "As soon as we define a class, a new class object is created with **the same name**. This class object allows us to access the different attributes as well as to instantiate new objects of that class.\n",
    "\n"
   ]
  },
  {
   "cell_type": "code",
   "execution_count": 77,
   "metadata": {},
   "outputs": [
    {
     "name": "stdout",
     "output_type": "stream",
     "text": [
      "10\n",
      "<function Person.greet at 0x000001F55885FE18>\n",
      "This is a person class\n"
     ]
    }
   ],
   "source": [
    "class Person:\n",
    "    \"This is a person class\"\n",
    "    age = 10\n",
    "\n",
    "    def greet(self):\n",
    "        print('Hello')\n",
    "\n",
    "\n",
    "# Output: 10\n",
    "print(Person.age)\n",
    "\n",
    "# Output: <function Person.greet>\n",
    "print(Person.greet)\n",
    "\n",
    "# Output: \"This is a person class\"\n",
    "print(Person.__doc__)"
   ]
  },
  {
   "cell_type": "markdown",
   "metadata": {},
   "source": [
    "### 2.1. Creating an Object"
   ]
  },
  {
   "cell_type": "markdown",
   "metadata": {},
   "source": [
    "We saw that the class object could be used to access different attributes.\n",
    "\n",
    "It can also be used to create new object instances (instantiation) of that class. The procedure to create an object is similar to a function call.\n",
    "\n",
    "`\n",
    "harry = Person()\n",
    "`\n",
    "\n",
    "This will create a new object instance named harry. We can access the attributes of objects using the object name prefix.\n",
    "\n",
    "Attributes may be data or method. Methods of an object are corresponding functions of that class.\n",
    "\n",
    "This means to say, since Person.greet is a function object (attribute of class), Person.greet will be a method object."
   ]
  },
  {
   "cell_type": "code",
   "execution_count": 78,
   "metadata": {},
   "outputs": [
    {
     "name": "stdout",
     "output_type": "stream",
     "text": [
      "<function Person.greet at 0x000001F55885F620>\n",
      "<bound method Person.greet of <__main__.Person object at 0x000001F558872EF0>>\n",
      "Hello\n"
     ]
    }
   ],
   "source": [
    "class Person:\n",
    "    \"This is a person class\"\n",
    "    age = 10\n",
    "\n",
    "    def greet(self):\n",
    "        print('Hello')\n",
    "\n",
    "\n",
    "# create a new object of Person class\n",
    "harry = Person()           # class object\n",
    "\n",
    "# Output: <function onject: Person.greet>\n",
    "print(Person.greet)       # Person.greet ==> function object\n",
    "\n",
    "# Output: <bound method Person.greet of <__main__.Person object>>\n",
    "print(harry.greet)        # harry.greet ==> method object\n",
    "\n",
    "# Calling object's greet() method\n",
    "# Output: Hello\n",
    "harry.greet()"
   ]
  },
  {
   "cell_type": "markdown",
   "metadata": {},
   "source": [
    "Note that the `self parameter` in function definition inside the class but we called `the method simply` as `harry.greet()` without any arguments. It still worked.\n",
    "\n",
    "This is because, <font color = \"red\">whenever an object calls its method, the object itself is passed as the first argument. So, `harry.greet()` translates into `Person.greet(harry)`. </font>\n",
    "\n",
    "In general, calling a method with a list of n arguments is equivalent to calling the corresponding function with an argument list that is created by inserting the method's object before the first argument.\n",
    "\n",
    "For these reasons, the first argument of the function in class must be the object itself. This is conventionally called `self`. It can be named otherwise but we highly recommend to follow the convention.\n"
   ]
  },
  {
   "cell_type": "markdown",
   "metadata": {},
   "source": [
    "### 2.2. Constructors in Python"
   ]
  },
  {
   "cell_type": "markdown",
   "metadata": {},
   "source": [
    "Class functions that begin with `double underscore __` are called special functions as they have special meaning.\n",
    "\n",
    "One particular function of interest is the `__init__() function`. This special function gets called whenever a new object of that class is instantiated.\n",
    "\n",
    "This type of function is also called `constructors` in Object Oriented Programming (OOP). We normally use it to initialize all the variables."
   ]
  },
  {
   "cell_type": "markdown",
   "metadata": {},
   "source": [
    "* **Syntax of constructor declaration**:\n",
    "\n",
    "```\n",
    "def __init__(self):\n",
    "    # body of the constructor\n",
    "```\n",
    "\n",
    "\n",
    "* **Types of constructors**\n",
    "\n",
    "\n",
    "**default constructor**: The default constructor is simple constructor which doesn’t accept any arguments. It’s definition has only one argument which is a reference to the instance being constructed.\n",
    "\n",
    "**parameterized constructor**: constructor with parameters is known as parameterized constructor. The parameterized constructor take its first argument as a reference to the instance being constructed known as self and the rest of the arguments are provided by the programmer.\n"
   ]
  },
  {
   "cell_type": "markdown",
   "metadata": {},
   "source": [
    "`Example of Default Constructor`"
   ]
  },
  {
   "cell_type": "code",
   "execution_count": 88,
   "metadata": {},
   "outputs": [
    {
     "name": "stdout",
     "output_type": "stream",
     "text": [
      " An example of default constructor\n"
     ]
    }
   ],
   "source": [
    "class DefaultConstructor:\n",
    "  \n",
    "    # default constructor\n",
    "    def __init__(self):\n",
    "        self.constructor = \" An example of default constructor\"\n",
    "  \n",
    "    # a method for printing data members\n",
    "    def print_defaul(self):\n",
    "        print(self.constructor)\n",
    "  \n",
    "  \n",
    "# creating object of the class\n",
    "obj = DefaultConstructor()\n",
    "  \n",
    "# calling the instance method using the object obj\n",
    "obj.print_defaul()"
   ]
  },
  {
   "cell_type": "markdown",
   "metadata": {},
   "source": [
    "`Example of parameterized constructor`"
   ]
  },
  {
   "cell_type": "code",
   "execution_count": 100,
   "metadata": {},
   "outputs": [
    {
     "name": "stdout",
     "output_type": "stream",
     "text": [
      "First number = 1000\n",
      "Second number = 2000\n",
      "Addition of two numbers = 3000\n"
     ]
    }
   ],
   "source": [
    "# Declaration of class\n",
    "class Addition:\n",
    "    first = 0      \n",
    "    second = 0\n",
    "    answer = 0\n",
    "      \n",
    "    # parameterized constructor\n",
    "    def __init__(self, f, s):\n",
    "        self.first = f\n",
    "        self.second = s\n",
    "\n",
    "    # method of calculation\n",
    "    def calculate(self):\n",
    "        self.answer = self.first + self.second\n",
    "        \n",
    "    #  Method for display\n",
    "    def display(self):\n",
    "        print(\"First number = \" + str(self.first))\n",
    "        print(\"Second number = \" + str(self.second))\n",
    "        print(\"Addition of two numbers = \" + str(self.answer))\n",
    "         \n",
    "# creating object of the class\n",
    "# this will invoke parameterized constructor\n",
    "obj = Addition(1000, 2000)\n",
    "  \n",
    "# perform Addition - \n",
    "obj.calculate()\n",
    "  \n",
    "# display result\n",
    "obj.display()"
   ]
  },
  {
   "cell_type": "markdown",
   "metadata": {},
   "source": [
    "### 2.3. Deleting Attributes and Objects"
   ]
  },
  {
   "cell_type": "markdown",
   "metadata": {},
   "source": [
    "We have discussed this topic in  data types. Any attribute of an object can be deleted anytime, using the `del statement`. Try the following on the Python shell to see the output."
   ]
  },
  {
   "cell_type": "code",
   "execution_count": 110,
   "metadata": {},
   "outputs": [
    {
     "name": "stdout",
     "output_type": "stream",
     "text": [
      "Before deleting attribute: empl.age = 31\n"
     ]
    },
    {
     "ename": "AttributeError",
     "evalue": "'employee' object has no attribute 'age'",
     "output_type": "error",
     "traceback": [
      "\u001b[1;31m---------------------------------------------------------------------------\u001b[0m",
      "\u001b[1;31mAttributeError\u001b[0m                            Traceback (most recent call last)",
      "\u001b[1;32m<ipython-input-110-6720f377e83c>\u001b[0m in \u001b[0;36m<module>\u001b[1;34m\u001b[0m\n\u001b[0;32m     13\u001b[0m \u001b[1;32mdel\u001b[0m \u001b[0memp1\u001b[0m\u001b[1;33m.\u001b[0m\u001b[0mage\u001b[0m\u001b[1;33m\u001b[0m\u001b[1;33m\u001b[0m\u001b[0m\n\u001b[0;32m     14\u001b[0m \u001b[1;33m\u001b[0m\u001b[0m\n\u001b[1;32m---> 15\u001b[1;33m \u001b[0mprint\u001b[0m\u001b[1;33m(\u001b[0m\u001b[0memp1\u001b[0m\u001b[1;33m.\u001b[0m\u001b[0mage\u001b[0m\u001b[1;33m)\u001b[0m\u001b[1;33m\u001b[0m\u001b[1;33m\u001b[0m\u001b[0m\n\u001b[0m\u001b[0;32m     16\u001b[0m \u001b[1;33m\u001b[0m\u001b[0m\n\u001b[0;32m     17\u001b[0m \u001b[1;33m\u001b[0m\u001b[0m\n",
      "\u001b[1;31mAttributeError\u001b[0m: 'employee' object has no attribute 'age'"
     ]
    }
   ],
   "source": [
    "class employee:\n",
    "    def __init__(self, name, age):\n",
    "        self.name = name\n",
    "        self.age = age\n",
    "    \n",
    "    def myfun(self):\n",
    "        print(\"Hello my name is\" + self.name)\n",
    "        \n",
    "emp1 = employee(\"Jack\", 31)\n",
    "    \n",
    "print(\"Before deleting attribute: empl.age =\", emp1.age)\n",
    "    \n",
    "del emp1.age\n",
    "\n",
    "print(emp1.age)  # Generates AttributeError since attribute emp1.age was deleted!\n",
    "    \n",
    "    \n",
    "    "
   ]
  },
  {
   "cell_type": "markdown",
   "metadata": {},
   "source": [
    "We can also delete the object"
   ]
  },
  {
   "cell_type": "code",
   "execution_count": 113,
   "metadata": {},
   "outputs": [
    {
     "name": "stdout",
     "output_type": "stream",
     "text": [
      "Before deleting: <__main__.employee object at 0x000001F558858D68>\n"
     ]
    },
    {
     "ename": "NameError",
     "evalue": "name 'emp1' is not defined",
     "output_type": "error",
     "traceback": [
      "\u001b[1;31m---------------------------------------------------------------------------\u001b[0m",
      "\u001b[1;31mNameError\u001b[0m                                 Traceback (most recent call last)",
      "\u001b[1;32m<ipython-input-113-89d535efba98>\u001b[0m in \u001b[0;36m<module>\u001b[1;34m\u001b[0m\n\u001b[0;32m     13\u001b[0m \u001b[1;32mdel\u001b[0m \u001b[0memp1\u001b[0m\u001b[1;33m\u001b[0m\u001b[1;33m\u001b[0m\u001b[0m\n\u001b[0;32m     14\u001b[0m \u001b[1;33m\u001b[0m\u001b[0m\n\u001b[1;32m---> 15\u001b[1;33m \u001b[0mprint\u001b[0m\u001b[1;33m(\u001b[0m\u001b[1;34m\"After deleting:\"\u001b[0m\u001b[1;33m,\u001b[0m \u001b[0memp1\u001b[0m\u001b[1;33m)\u001b[0m\u001b[1;33m\u001b[0m\u001b[1;33m\u001b[0m\u001b[0m\n\u001b[0m",
      "\u001b[1;31mNameError\u001b[0m: name 'emp1' is not defined"
     ]
    }
   ],
   "source": [
    "class employee:\n",
    "    def __init__(self, name, age):\n",
    "        self.name = name\n",
    "        self.age = age\n",
    "    \n",
    "    def myfun(self):\n",
    "        print(\"Hello my name is\" + self.name)\n",
    "        \n",
    "emp1 = employee(\"Jack\", 31)\n",
    "\n",
    "print(\"Before deleting:\", emp1)\n",
    "\n",
    "del emp1\n",
    "\n",
    "print(\"After deleting:\", emp1)   # generated NameError since the class object was deleted!"
   ]
  },
  {
   "cell_type": "markdown",
   "metadata": {},
   "source": [
    "## 3. Python Inheritance"
   ]
  },
  {
   "cell_type": "markdown",
   "metadata": {},
   "source": [
    "Inheritance is a powerful feature in object oriented programming.\n",
    "\n",
    "It refers to defining a new class with little or no modification to an existing class. The new class is called derived (or child) class and the one from which it inherits is called the base (or parent) class. In other words, inheritance enables us to define a class that takes all the functionality from a parent class and allows us to add more.\n",
    "\n",
    "Python Inheritance Syntax\n",
    "\n",
    "```\n",
    "class BaseClass:\n",
    "  Body of base class\n",
    "class DerivedClass(BaseClass):\n",
    "  Body of derived class\n",
    "```  \n",
    "  \n",
    "Derived class inherits features from the base class where new features can be added to it. This results in re-usability of code.\n",
    "\n"
   ]
  },
  {
   "cell_type": "markdown",
   "metadata": {},
   "source": [
    "**Example**: Define a `parent class` called Polygon defined as follows."
   ]
  },
  {
   "cell_type": "code",
   "execution_count": 114,
   "metadata": {},
   "outputs": [],
   "source": [
    "# class declaration\n",
    "class Polygon:\n",
    "    \n",
    "    # parametrized constructor\n",
    "    def __init__(self, no_of_sides):\n",
    "        self.n = no_of_sides\n",
    "        self.sides = [0 for i in range(no_of_sides)]\n",
    "\n",
    "    # input method - function object\n",
    "    def inputSides(self):\n",
    "        self.sides = [float(input(\"Enter side \"+str(i+1)+\" : \")) for i in range(self.n)]\n",
    "\n",
    "    # display method - function object\n",
    "    def dispSides(self):\n",
    "        for i in range(self.n):\n",
    "            print(\"Side\",i+1,\"is\",self.sides[i])\n",
    "                      "
   ]
  },
  {
   "cell_type": "markdown",
   "metadata": {},
   "source": [
    "This class has `data attributes` to store the number of sides n and magnitude of each side as a list called `sides`.\n",
    "\n",
    "The `inputSides() method` takes in the magnitude of each side and `dispSides() method` displays these side lengths.\n",
    "\n",
    "A **triangle** is a polygon with 3 sides. So, we can create a class called `Triangle` which inherits from `Polygon`. This makes all the attributes of `Polygon class` available to the `Triangle class`.\n",
    "\n",
    "The following code defines a child class called `Triangle`."
   ]
  },
  {
   "cell_type": "code",
   "execution_count": 115,
   "metadata": {},
   "outputs": [],
   "source": [
    "# child class\n",
    "class Triangle(Polygon):\n",
    "    \n",
    "    def __init__(self):\n",
    "        Polygon.__init__(self,3)\n",
    "\n",
    "    def findArea(self):\n",
    "        a, b, c = self.sides\n",
    "        # calculate the semi-perimeter\n",
    "        s = (a + b + c) / 2\n",
    "        area = (s*(s-a)*(s-b)*(s-c)) ** 0.5\n",
    "        print('The area of the triangle is %0.2f' %area)"
   ]
  },
  {
   "cell_type": "markdown",
   "metadata": {},
   "source": [
    "However, `class Triangle` has a new `method findArea()` to find and print the area of the triangle. Next, we access the child class `Triangle`."
   ]
  },
  {
   "cell_type": "code",
   "execution_count": 117,
   "metadata": {},
   "outputs": [
    {
     "name": "stdout",
     "output_type": "stream",
     "text": [
      "Enter side 1 : 3\n",
      "Enter side 2 : 4\n",
      "Enter side 3 : 5\n"
     ]
    }
   ],
   "source": [
    "# class object based on the child class Triangle\n",
    "t = Triangle()\n",
    "\n",
    "# user input the lengths od the three sides of the triangle\n",
    "t.inputSides()"
   ]
  },
  {
   "cell_type": "code",
   "execution_count": 118,
   "metadata": {},
   "outputs": [
    {
     "name": "stdout",
     "output_type": "stream",
     "text": [
      "Side 1 is 3.0\n",
      "Side 2 is 4.0\n",
      "Side 3 is 5.0\n"
     ]
    }
   ],
   "source": [
    "t.dispSides()"
   ]
  },
  {
   "cell_type": "code",
   "execution_count": 119,
   "metadata": {},
   "outputs": [
    {
     "name": "stdout",
     "output_type": "stream",
     "text": [
      "The area of the triangle is 6.00\n"
     ]
    }
   ],
   "source": [
    "t.findArea()"
   ]
  },
  {
   "cell_type": "markdown",
   "metadata": {},
   "source": [
    "We can see that even though we did not define methods like `nputSides()` or `dispSides()` for class Triangle separately, we were able to use them."
   ]
  },
  {
   "cell_type": "markdown",
   "metadata": {},
   "source": [
    "**Method Overriding in Python**\n"
   ]
  },
  {
   "cell_type": "markdown",
   "metadata": {},
   "source": [
    "In the above examples,  `__init__() method` was defined in both classes, `Triangle` as well as `Polygon`. When this happens, the method in the `child class` overrides that in the `parent class`. That is, `__init__()` in `Triangle gets preference over the __init__ in Polygon`."
   ]
  },
  {
   "cell_type": "markdown",
   "metadata": {},
   "source": [
    "Generally when overriding a base method, we tend to extend the definition rather than simply replace it. The same is being done by calling the method in `parent class` from the one in `child class` (calling `Polygon.__init__()` from `__init__()` in Triangle).\n",
    "\n",
    "A better option would be to use the built-in function `super()`. So, `super().__init__(3)` is equivalent to `olygon.__init__(self,3)` and is preferred."
   ]
  },
  {
   "cell_type": "markdown",
   "metadata": {},
   "source": [
    "Two built-in functions `isinstance()` and `issubclass()` are used to check inheritances.\n",
    "\n",
    "The function `isinstance()` returns True if the object is an instance of the class or other classes derived from it. Each and every class in Python inherits from the base class object"
   ]
  },
  {
   "cell_type": "code",
   "execution_count": 121,
   "metadata": {},
   "outputs": [
    {
     "data": {
      "text/plain": [
       "True"
      ]
     },
     "execution_count": 121,
     "metadata": {},
     "output_type": "execute_result"
    }
   ],
   "source": [
    "isinstance(t,Triangle)"
   ]
  },
  {
   "cell_type": "code",
   "execution_count": 122,
   "metadata": {},
   "outputs": [
    {
     "data": {
      "text/plain": [
       "True"
      ]
     },
     "execution_count": 122,
     "metadata": {},
     "output_type": "execute_result"
    }
   ],
   "source": [
    "isinstance(t,Polygon)"
   ]
  },
  {
   "cell_type": "code",
   "execution_count": 123,
   "metadata": {},
   "outputs": [
    {
     "data": {
      "text/plain": [
       "False"
      ]
     },
     "execution_count": 123,
     "metadata": {},
     "output_type": "execute_result"
    }
   ],
   "source": [
    "isinstance(t,int)"
   ]
  },
  {
   "cell_type": "code",
   "execution_count": 124,
   "metadata": {},
   "outputs": [
    {
     "data": {
      "text/plain": [
       "True"
      ]
     },
     "execution_count": 124,
     "metadata": {},
     "output_type": "execute_result"
    }
   ],
   "source": [
    "isinstance(t,object)"
   ]
  },
  {
   "cell_type": "markdown",
   "metadata": {},
   "source": [
    "A few examples of `issubclass`."
   ]
  },
  {
   "cell_type": "code",
   "execution_count": 125,
   "metadata": {},
   "outputs": [
    {
     "data": {
      "text/plain": [
       "False"
      ]
     },
     "execution_count": 125,
     "metadata": {},
     "output_type": "execute_result"
    }
   ],
   "source": [
    "issubclass(Polygon,Triangle)"
   ]
  },
  {
   "cell_type": "code",
   "execution_count": 126,
   "metadata": {},
   "outputs": [
    {
     "data": {
      "text/plain": [
       "True"
      ]
     },
     "execution_count": 126,
     "metadata": {},
     "output_type": "execute_result"
    }
   ],
   "source": [
    "issubclass(Triangle,Polygon)"
   ]
  },
  {
   "cell_type": "code",
   "execution_count": 127,
   "metadata": {},
   "outputs": [
    {
     "data": {
      "text/plain": [
       "True"
      ]
     },
     "execution_count": 127,
     "metadata": {},
     "output_type": "execute_result"
    }
   ],
   "source": [
    "issubclass(bool,int)"
   ]
  },
  {
   "cell_type": "markdown",
   "metadata": {},
   "source": [
    "## 4. Multiple Inheritance"
   ]
  },
  {
   "cell_type": "markdown",
   "metadata": {},
   "source": [
    "When a class is derived from more than one base class it is called multiple Inheritance. The derived class inherits all the features of the base case."
   ]
  },
  {
   "cell_type": "code",
   "execution_count": null,
   "metadata": {},
   "outputs": [],
   "source": []
  }
 ],
 "metadata": {
  "kernelspec": {
   "display_name": "Python 3",
   "language": "python",
   "name": "python3"
  },
  "language_info": {
   "codemirror_mode": {
    "name": "ipython",
    "version": 3
   },
   "file_extension": ".py",
   "mimetype": "text/x-python",
   "name": "python",
   "nbconvert_exporter": "python",
   "pygments_lexer": "ipython3",
   "version": "3.7.3"
  },
  "latex_envs": {
   "LaTeX_envs_menu_present": true,
   "autoclose": false,
   "autocomplete": true,
   "bibliofile": "biblio.bib",
   "cite_by": "apalike",
   "current_citInitial": 1,
   "eqLabelWithNumbers": true,
   "eqNumInitial": 1,
   "hotkeys": {
    "equation": "Ctrl-E",
    "itemize": "Ctrl-I"
   },
   "labels_anchors": false,
   "latex_user_defs": false,
   "report_style_numbering": false,
   "user_envs_cfg": false
  },
  "toc": {
   "base_numbering": "",
   "nav_menu": {},
   "number_sections": false,
   "sideBar": true,
   "skip_h1_title": false,
   "title_cell": "Table of Contents",
   "title_sidebar": "Concepts of Object Orient Programming",
   "toc_cell": false,
   "toc_position": {},
   "toc_section_display": true,
   "toc_window_display": true
  },
  "varInspector": {
   "cols": {
    "lenName": 16,
    "lenType": 16,
    "lenVar": 40
   },
   "kernels_config": {
    "python": {
     "delete_cmd_postfix": "",
     "delete_cmd_prefix": "del ",
     "library": "var_list.py",
     "varRefreshCmd": "print(var_dic_list())"
    },
    "r": {
     "delete_cmd_postfix": ") ",
     "delete_cmd_prefix": "rm(",
     "library": "var_list.r",
     "varRefreshCmd": "cat(var_dic_list()) "
    }
   },
   "types_to_exclude": [
    "module",
    "function",
    "builtin_function_or_method",
    "instance",
    "_Feature"
   ],
   "window_display": false
  }
 },
 "nbformat": 4,
 "nbformat_minor": 2
}
