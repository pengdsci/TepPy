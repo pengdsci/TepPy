{
 "cells": [
  {
   "cell_type": "markdown",
   "metadata": {},
   "source": [
    "<center><font size = 5><b>Module 01: Introduction to Python</b></font></center>"
   ]
  },
  {
   "cell_type": "markdown",
   "metadata": {},
   "source": [
    "In this module, we will help you get started with Python programming"
   ]
  },
  {
   "cell_type": "markdown",
   "metadata": {},
   "source": [
    "## 1. What is Python?"
   ]
  },
  {
   "cell_type": "markdown",
   "metadata": {},
   "source": [
    "Python, named after the British comedy group Monty Python, is a high-level, interpreted, interactive, and object-oriented programming language. Its flexibility allows us to do many things, both big and small. With Python, we can write basic programs and scripts and also create complex and large-scale enterprise solutions."
   ]
  },
  {
   "cell_type": "markdown",
   "metadata": {},
   "source": [
    "Python has a bunch of features that make it attractive as one of the programming languages:\n",
    "\n",
    "* Free: Python is available free of charge, even for commercial purposes.\n",
    "* Open source: Anyone can contribute to Python development.\n",
    "* Accessible: People of all ages, from school children to retirees, have learned Python, and so can you.\n",
    "* Versatile: Python can help you solve problems in many fields, including scripting, data science, web development, GUI development, and more.\n",
    "* Powerful: You can code small scripts to automate repetitive tasks, and you can also create complex and large-scale enterprise solutions with Python."
   ]
  },
  {
   "cell_type": "markdown",
   "metadata": {},
   "source": [
    "Compared to other programming languages, Python has the following features:\n",
    "\n",
    "* Interpreted: It’s portable and quicker to experiment with than compiled languages.\n",
    "* Dynamically typed: It checks variable types at runtime, so you don’t need to declare them explicitly.\n",
    "* Strongly typed: It won’t let unsafe operations on incompatible types go unnoticed."
   ]
  },
  {
   "cell_type": "markdown",
   "metadata": {},
   "source": [
    "`The preference of the three programming languages by industries.`"
   ]
  },
  {
   "cell_type": "markdown",
   "metadata": {},
   "source": [
    "<img src = \"https://github.com/pengdsci/PythonCrashCourse/raw/main/image/Use-Python-R-SAS.png\" width = \"600\" height = \"400\" alt = \"Use-Python-R-SAS\" >"
   ]
  },
  {
   "cell_type": "markdown",
   "metadata": {},
   "source": [
    "`The preference of the three popular programming languages by years of professional experience.`"
   ]
  },
  {
   "cell_type": "markdown",
   "metadata": {},
   "source": [
    "<img src = \"https://github.com/pengdsci/PythonCrashCourse/raw/main/image/Use-of-software-by-years-of-experience.png\" width = \"600\" height = \"400\" alt = \"Use-of-software-by-years-of-experience\" >"
   ]
  },
  {
   "cell_type": "markdown",
   "metadata": {},
   "source": [
    "## 2. Install Python & Related Tools"
   ]
  },
  {
   "cell_type": "markdown",
   "metadata": {},
   "source": [
    "There are a few different to install Python (3.7 or more recent version), we **recommend** installing Anoaconda, open source distribution of Python, that has all tools needed for Python programming. The following is a brief description of these tools"
   ]
  },
  {
   "cell_type": "markdown",
   "metadata": {},
   "source": [
    "<img src = \"https://github.com/pengdsci/PythonCrashCourse/raw/main/image/Anacona-jupyter-spider.png\" width = \"400\" height = \"250\" alt = \"Anaconda-jupyter-spider-logos\" >"
   ]
  },
  {
   "cell_type": "markdown",
   "metadata": {},
   "source": [
    "**Anaconda** is a free and open-source distribution of the Python and R programming languages for data science and machine learning-related applications (large-scale data processing, predictive analytics, scientific computing), that aims to simplify package management and deployment."
   ]
  },
  {
   "cell_type": "markdown",
   "metadata": {},
   "source": [
    "**Jupyter Notebook** is an open-source web application that allows you to create and share documents that contain live code, equations, visualizations, and narrative text. Uses include data cleaning and transformation, numerical simulation, statistical modeling, data visualization, machine learning, and much more."
   ]
  },
  {
   "cell_type": "markdown",
   "metadata": {},
   "source": [
    "**Spyder** is an open-source cross-platform integrated development environment (IDE) for scientific programming in the Python language."
   ]
  },
  {
   "cell_type": "markdown",
   "metadata": {},
   "source": [
    "**Jupyter Notebook Extensions**. There are many nice features such as auto-completion, spelling check, automatic table content generation, etc. To use these features, we need to install notebook extensions and select the widgets we want to use in the Jupyter Notebook.\n",
    "\n",
    "We need to run the following shell command in Anaconda's prompt. To do this,\n",
    "\n",
    "(1). close Jupyter notebooks and kernels.\n",
    "\n",
    "(2). Go to program (windows logo, bottom left of the screen) => select Anaconda => Anaconda Prompt\n",
    "\n",
    "(3). type the following shell commands\n",
    "\n",
    "```\n",
    "pip install jupyter_contrib_nbextensions\n",
    "```\n",
    "after finishing the installation, type the following shell command in the same Anaconda prompt to complete the installation of `nbextension`.\n",
    "\n",
    "```\n",
    "jupyter contrib nbextension install --system\n",
    "```\n",
    "\n",
    "(4). Open Jupyter Notebook, an additional tab Nbextensions was added to the list. Click the tab and check the extended notebook features to use.\n",
    "\n",
    "\n",
    "\n",
    "`Hinterland` allows auto-completion.\n",
    "`Table of contents (2)` allows automatic generation of **Table of contents**.\n"
   ]
  },
  {
   "cell_type": "markdown",
   "metadata": {},
   "source": [
    "## 3. The Basic Python Syntax"
   ]
  },
  {
   "cell_type": "markdown",
   "metadata": {},
   "source": [
    "The Python syntax is clear, concise, and focused on readability. Readability is arguably one of the more attractive features of the language itself. It makes Python ideal for people who are learning to program. In this section, we’ll learn about several important components of the Python syntax:\n",
    "\n",
    "### 3.1. Comments\n",
    "\n",
    "Comments are pieces of text that live in our code but are ignored by the Python interpreter as it executes the code. We can use comments to describe the code so that we and other developers can quickly understand what the code does or why the code is written in a given way. To write a comment in Python, just add a hash mark (#) before your comment text:\n",
    "\n",
    "```    \n",
    "# This is a long comment that requires\n",
    "# two lines to be complete.\n",
    "```\n",
    "        \n",
    "    \n",
    "### 3.2. Variables\n",
    "\n",
    "In Python, variables are names attached to a particular object. They hold a reference, or pointer, to the memory address at which an object is stored. Once a variable is assigned an object, we can access the object using the variable name. We need to define our variables in advance. Here’s the syntax:\n",
    "\n",
    "```\n",
    "variable_name = variable_value\n",
    "```\n",
    "\n",
    "We should use a naming scheme that makes our variables intuitive and readable. The variable name should provide some indication as to what the values assigned to it are.\n",
    "\n",
    "Sometimes programmers use short variable names, such as x and y. These are perfectly suitable names in the context of math, algebra, and so on. In other contexts, we should avoid single-character names and use something more descriptive. That way, other developers can make an educated guess of what our variables hold. \n",
    "\n",
    "`Some naming convention in Python`: Our variable names can be any length and can consist of uppercase and lowercase letters (A-Z, a-z), digits (0-9), and also the underscore character (_). In sum, variable names should be alphanumeric, but note that even though variable names can contain digits, their first character can’t be a digit.\n",
    "\n",
    "The `lower_case_with_underscores` naming convention, also known as snake_case, is commonly used in Python. It isn’t enforced, but it’s a widely adopted standard.\n",
    "\n",
    "\n",
    "### 3.3. Keywords\n",
    "\n",
    "Like any other programming language, Python has a set of special words that are part of its syntax. These words are known as keywords. To get the complete list of keywords available in our current Python installation, we can run the following code in an interactive session:\n",
    "\n",
    "```\n",
    "help(\"keywords\")\n",
    "```\n",
    "\n",
    "Here is a list of the Python keywords.  Enter any keyword to get more help.\n",
    "\n",
    "```\n",
    "False               class               from                or\n",
    "None                continue            global              pass\n",
    "True                def                 if                  raise\n",
    "and                 del                 import              return\n",
    "as                  elif                in                  try\n",
    "assert              else                is                  while\n",
    "async               except              lambda              with\n",
    "await               finally             nonlocal            yield\n",
    "break               for                 not\n",
    "```\n",
    "\n",
    "Each of these keywords plays a role in Python syntax. They are reserved words that have specific meanings and purposes in the language, so we shouldn’t use them for anything but those specific purposes. For example, we shouldn’t use them as variable names in our code.\n",
    "\n",
    "### 3.4. Built-in data types\n",
    "\n",
    "Python has a handful of built-in data types, such as numbers (integers, floats, complex numbers), Booleans, strings, lists, tuples, dictionaries, and sets. We can manipulate them with several tools:\n",
    "\n",
    "* Operators\n",
    "* Built-in functions\n",
    "* Data type methods\n",
    "\n",
    "In the next few sections, we’ll learn the basics of incorporating Python’s built-in data types.\n",
    "\n",
    "#### <font color = \"darkred\"><b>A. Numbers</b></font>\n",
    "\n",
    "Python provides integers, floating-point numbers, and complex numbers. Integers and floating-point numbers are the most commonly used numeric types in day-to-day programming, while complex numbers have specific use cases in math and science. Here’s a summary of their features:\n",
    "\n",
    "|Number\t|Description\t|Examples\t|Python Data Type|\n",
    "|:-----:|:-------------:|:---------:|:--------------:|\n",
    "|Integer|\tWhole numbers|\t1, 2, 42, 476, -99999|\tint|\n",
    "|Floating-point|\tNumbers with decimal points|\t1.0, 2.2, 42.09, 476.1, -99999.9|\tfloat|\n",
    "|Complex|\tNumbers with a real part and an imaginary part|\tcomplex(1, 2), complex(-1, 7), complex(\"1+2j\")\t|complex|\n",
    "\n",
    "Integer numbers have unlimited precision. Floating-point numbers’ precision information is available in` sys.float_info`. Complex numbers have a real part and an imaginary part, which are both floating-point numbers.\n",
    "\n",
    "#### <font color = \"darkred\"><b>B. Operators</b></font>\n",
    "\n",
    "Operators represent operations, such as addition, subtraction, multiplication, division, and so on. When we combine them with numbers, they form expressions that Python can evaluate.\n"
   ]
  },
  {
   "cell_type": "code",
   "execution_count": 1,
   "metadata": {},
   "outputs": [
    {
     "name": "stdout",
     "output_type": "stream",
     "text": [
      "5 + 3 =  8\n",
      "5 - 3 =  2\n",
      "5 * 3 =  15\n",
      "5 / 3 =  1.6666666666666667\n",
      "5 // 3 =  1\n",
      "5 % 3 =  2\n",
      "5 ** 3 =  125\n"
     ]
    }
   ],
   "source": [
    "\n",
    "# Addition\n",
    "print(\"5 + 3 = \",5 + 3)\n",
    "\n",
    "# Subtraction\n",
    "print(\"5 - 3 = \", 5 - 3)\n",
    "\n",
    "# Multiplication\n",
    "print(\"5 * 3 = \", 5 * 3)\n",
    "\n",
    "# Division\n",
    "print(\"5 / 3 = \", 5 / 3)\n",
    "\n",
    "# Floor division\n",
    "print(\"5 // 3 = \", 5 // 3)\n",
    "\n",
    "# Modulus (returns the remainder from division)\n",
    "print(\"5 % 3 = \", 5 % 3)\n",
    "\n",
    "# Power\n",
    "print(\"5 ** 3 = \", 5 ** 3)"
   ]
  },
  {
   "cell_type": "markdown",
   "metadata": {},
   "source": [
    "\n",
    "These operators work with two operands and are commonly known as arithmetic operators. The operands can be numbers or variables that hold numbers.\n",
    "\n",
    "Besides operators, Python provides you with a bunch of built-in functions for manipulating numbers. These functions are always available to us. In other words, we don’t have to import them to be able to use them in our programs.\n",
    "\n",
    "`Note`: There are modules available in the Python standard library, such as math, that also provide us with functions to manipulate numbers.\n",
    "\n",
    "To use the functions associated with these modules, we first have to import the module and then access the function using `module.function_name()`. Alternatively, we can import a function directly from the module using from module import `unction_name`.\n",
    "\n",
    "Given an integer number or a string representing a number as an argument, `float()` returns a floating-point number:\n"
   ]
  },
  {
   "cell_type": "code",
   "execution_count": 7,
   "metadata": {},
   "outputs": [
    {
     "name": "stdout",
     "output_type": "stream",
     "text": [
      "float of 9= 9.0\n",
      "float of -99999= -99999.0\n",
      "float of \"2\"  2.0\n",
      "float of \"-200\"  -200.0\n",
      "float of \"2.25\"  2.25\n"
     ]
    },
    {
     "ename": "TypeError",
     "evalue": "can't convert complex to float",
     "output_type": "error",
     "traceback": [
      "\u001b[1;31m---------------------------------------------------------------------------\u001b[0m",
      "\u001b[1;31mTypeError\u001b[0m                                 Traceback (most recent call last)",
      "\u001b[1;32m<ipython-input-7-f16b52f5e61d>\u001b[0m in \u001b[0;36m<module>\u001b[1;34m\u001b[0m\n\u001b[0;32m      9\u001b[0m \u001b[1;33m\u001b[0m\u001b[0m\n\u001b[0;32m     10\u001b[0m \u001b[1;31m# Complex numbers\u001b[0m\u001b[1;33m\u001b[0m\u001b[1;33m\u001b[0m\u001b[1;33m\u001b[0m\u001b[0m\n\u001b[1;32m---> 11\u001b[1;33m \u001b[0mfloat\u001b[0m\u001b[1;33m(\u001b[0m\u001b[0mcomplex\u001b[0m\u001b[1;33m(\u001b[0m\u001b[1;36m1\u001b[0m\u001b[1;33m,\u001b[0m \u001b[1;36m2\u001b[0m\u001b[1;33m)\u001b[0m\u001b[1;33m)\u001b[0m  \u001b[1;31m# this produce an TypeError due to the data type.\u001b[0m\u001b[1;33m\u001b[0m\u001b[1;33m\u001b[0m\u001b[0m\n\u001b[0m",
      "\u001b[1;31mTypeError\u001b[0m: can't convert complex to float"
     ]
    }
   ],
   "source": [
    "# Integer numbers\n",
    "print(\"float of 9=\", float(9))\n",
    "print(\"float of -99999=\",float(-99999))\n",
    "\n",
    "# Strings representing numbers - data type conversion!\n",
    "print('float of \"2\" ', float(\"2\"))\n",
    "print('float of \"-200\" ',float(\"-200\"))\n",
    "print('float of \"2.25\" ',float(\"2.25\"))\n",
    "\n",
    "# Complex numbers\n",
    "float(complex(1, 2))  # this produce an TypeError due to the data type.\n"
   ]
  },
  {
   "cell_type": "markdown",
   "metadata": {},
   "source": [
    "\n",
    "With `float()`, we can convert integer numbers and strings representing numbers into floating-point numbers, but we can’t convert a complex number into a floating-point number.\n",
    "\n",
    "Given a floating-point number or a string as an argument, `int()` returns an integer. This function doesn’t round the input up to the nearest integer. It simply truncates the input, throwing out anything after the decimal point, and returns the number. So, an input of 10.6 returns 10 instead of 11. Similarly, 3.25 returns 3:\n"
   ]
  },
  {
   "cell_type": "code",
   "execution_count": 12,
   "metadata": {},
   "outputs": [
    {
     "name": "stdout",
     "output_type": "stream",
     "text": [
      "int part of 10.6: 10\n",
      "int part of 3.25: 3\n",
      "int part of \"2\": 2\n"
     ]
    }
   ],
   "source": [
    "\n",
    "# Floating-point numbers\n",
    "print(\"int part of 10.6:\", int(10.6))\n",
    "print(\"int part of 3.25:\", int(3.25))\n",
    "\n",
    "# Strings representing numbers - data type conversion\n",
    "print('int part of \"2\":', int(\"2\"))\n"
   ]
  },
  {
   "cell_type": "code",
   "execution_count": 14,
   "metadata": {},
   "outputs": [
    {
     "ename": "ValueError",
     "evalue": "invalid literal for int() with base 10: '2.3'",
     "output_type": "error",
     "traceback": [
      "\u001b[1;31m---------------------------------------------------------------------------\u001b[0m",
      "\u001b[1;31mValueError\u001b[0m                                Traceback (most recent call last)",
      "\u001b[1;32m<ipython-input-14-a03cef2134db>\u001b[0m in \u001b[0;36m<module>\u001b[1;34m\u001b[0m\n\u001b[1;32m----> 1\u001b[1;33m \u001b[0mprint\u001b[0m\u001b[1;33m(\u001b[0m\u001b[1;34m'int part of \"2.3\"'\u001b[0m\u001b[1;33m,\u001b[0m\u001b[0mint\u001b[0m\u001b[1;33m(\u001b[0m\u001b[1;34m\"2.3\"\u001b[0m\u001b[1;33m)\u001b[0m \u001b[1;33m)\u001b[0m  \u001b[1;31m# This generates ValueError!\u001b[0m\u001b[1;33m\u001b[0m\u001b[1;33m\u001b[0m\u001b[0m\n\u001b[0m",
      "\u001b[1;31mValueError\u001b[0m: invalid literal for int() with base 10: '2.3'"
     ]
    }
   ],
   "source": [
    "print('int part of \"2.3\"',int(\"2.3\") )  # This generates ValueError!\n"
   ]
  },
  {
   "cell_type": "markdown",
   "metadata": {},
   "source": [
    "#### <font color = \"darkred\"><b>C. Booleans</b></font>\n",
    "\n",
    "Booleans are implemented as a subclass of integers with only two possible values in Python: True or False. Note that these values must start with a capital letter.\n",
    "\n",
    "We use Boolean values to express the true value of an expression or object. Booleans are handy when we write predicate functions or use `comparison operators`, such as greater than (>), lower than (<), equal (==), and so on.\n",
    "    "
   ]
  },
  {
   "cell_type": "code",
   "execution_count": 1,
   "metadata": {},
   "outputs": [
    {
     "name": "stdout",
     "output_type": "stream",
     "text": [
      "Bolean value of (2 < 5): True\n",
      "Bolean value of (4 > 10): False\n",
      "Bolean value of (4 <= 3): False\n",
      "Bolean value of (3 >= 3): True\n",
      "Bolean value of (5 == 6): False\n",
      "Bolean value of (6 != 9): True\n"
     ]
    }
   ],
   "source": [
    "print(\"Bolean value of (2 < 5):\", 2 < 5)\n",
    "\n",
    "print(\"Bolean value of (4 > 10):\", 4 > 10)\n",
    "\n",
    "print(\"Bolean value of (4 <= 3):\", 4 <= 3)\n",
    "\n",
    "print(\"Bolean value of (3 >= 3):\", 3 >= 3)\n",
    "\n",
    "print(\"Bolean value of (5 == 6):\", 5 == 6)\n",
    "\n",
    "print(\"Bolean value of (6 != 9):\", 6 != 9)\n"
   ]
  },
  {
   "cell_type": "markdown",
   "metadata": {},
   "source": [
    "Comparison operators evaluate Boolean values, True or False. `int()` takes a Boolean value and returns 0 for False and 1 for True because Python implements its Boolean values as a subclass of `int`.\n",
    "\n",
    "Python provides a built-in function, bool(), that is closely related to Boolean values. Here’s how it works"
   ]
  },
  {
   "cell_type": "code",
   "execution_count": 17,
   "metadata": {},
   "outputs": [
    {
     "name": "stdout",
     "output_type": "stream",
     "text": [
      "the values of bool(0): False\n",
      "the values of bool(1): True\n",
      "the values of bool(): False\n",
      "the values of bool(\"a\"): True\n",
      "the values of bool([]): False\n",
      "the values of int(False): 0\n",
      "the values of int(True): 1\n"
     ]
    }
   ],
   "source": [
    "print(\"the values of bool(0):\", bool(0))\n",
    "\n",
    "print(\"the values of bool(1):\", bool(1))\n",
    "\n",
    "print(\"the values of bool(\"\"):\", bool(\"\"))\n",
    "\n",
    "print('the values of bool(\"a\"):', bool(\"a\"))  # caution: must use a single quote ' ' in the string!\n",
    "\n",
    "print(\"the values of bool([]):\", bool([]))\n",
    "\n",
    "# Boolean value is a subclass of int\n",
    "print(\"the values of int(False):\", int(False))\n",
    "\n",
    "print(\"the values of int(True):\", int(True))\n"
   ]
  },
  {
   "cell_type": "markdown",
   "metadata": {},
   "source": [
    "#### <font color = \"darkred\"><b>D. Strings</b></font>\n",
    "\n",
    "Strings are pieces of text or sequences of characters that we can define using single, double, or triple quotes."
   ]
  },
  {
   "cell_type": "code",
   "execution_count": 18,
   "metadata": {},
   "outputs": [
    {
     "name": "stdout",
     "output_type": "stream",
     "text": [
      "greeting: Hello there!\n",
      "welcome: Welcome to Real Python!\n",
      "message: Thanks for joining us!\n",
      "escaped: can't\n",
      "not_escaped: can't\n"
     ]
    }
   ],
   "source": [
    "# Use single quotes\n",
    "greeting = 'Hello there!'\n",
    "print(\"greeting:\", greeting)\n",
    "\n",
    "# Use double quotes\n",
    "welcome = \"Welcome to Real Python!\"\n",
    "print(\"welcome:\", welcome)\n",
    "\n",
    "# Use triple quotes\n",
    "message = \"\"\"Thanks for joining us!\"\"\"\n",
    "print(\"message:\",message)\n",
    "\n",
    "# Escape characters\n",
    "escaped = 'can\\'t'\n",
    "print(\"escaped:\", escaped)\n",
    "\n",
    "not_escaped = \"can't\"\n",
    "print(\"not_escaped:\", not_escaped)"
   ]
  },
  {
   "cell_type": "markdown",
   "metadata": {},
   "source": [
    "Note that you can use different types of quotes to create string objects in Python. We can also use the `backslash character (\\) to escape characters` with special meanings, such as the quotes themselves.\n",
    "\n",
    "Once we define your string objects, we can use the `plus operator (+)` to concatenate them into a new string."
   ]
  },
  {
   "cell_type": "code",
   "execution_count": 19,
   "metadata": {},
   "outputs": [
    {
     "data": {
      "text/plain": [
       "'Happy pythoning!'"
      ]
     },
     "execution_count": 19,
     "metadata": {},
     "output_type": "execute_result"
    }
   ],
   "source": [
    "\"Happy\" + \" \" + \"pythoning!\""
   ]
  },
  {
   "cell_type": "markdown",
   "metadata": {},
   "source": [
    "When used on strings, the plus operator (+) concatenates them into a single string. Note that we need to include a blank space (\" \") between words to have proper spacing in our resulting string. If we need to concatenate a lot of strings, then we should consider using `.join()`, which is more efficient. \n",
    "\n",
    "Python comes with many useful built-in functions and methods for string manipulation. For example, if we pass a string as an argument to `len()`, then we’ll get the string’s length or the number of characters it contains:"
   ]
  },
  {
   "cell_type": "code",
   "execution_count": 20,
   "metadata": {},
   "outputs": [
    {
     "data": {
      "text/plain": [
       "16"
      ]
     },
     "execution_count": 20,
     "metadata": {},
     "output_type": "execute_result"
    }
   ],
   "source": [
    "len(\"Happy pythoning!\")"
   ]
  },
  {
   "cell_type": "markdown",
   "metadata": {},
   "source": [
    "When we call len() using a string as an argument, we get the number of characters, including any blank spaces, in the input string.\n",
    "\n",
    "The string class (str) provides a rich set of methods that are useful for manipulating and processing strings. For example, `str.join()` takes an iterable of strings and joins them together in a new string. The string on which we call the method plays the role of a separator."
   ]
  },
  {
   "cell_type": "code",
   "execution_count": 2,
   "metadata": {},
   "outputs": [
    {
     "data": {
      "text/plain": [
       "'Happy pythoning!'"
      ]
     },
     "execution_count": 2,
     "metadata": {},
     "output_type": "execute_result"
    }
   ],
   "source": [
    "\" \".join([\"Happy\", \"pythoning!\"])      # The white space in the double \" \" is a seperator!"
   ]
  },
  {
   "cell_type": "code",
   "execution_count": 25,
   "metadata": {},
   "outputs": [
    {
     "data": {
      "text/plain": [
       "'Happy        pythoning!'"
      ]
     },
     "execution_count": 25,
     "metadata": {},
     "output_type": "execute_result"
    }
   ],
   "source": [
    "\"        \".join([\"Happy\", \"pythoning!\"])"
   ]
  },
  {
   "cell_type": "markdown",
   "metadata": {},
   "source": [
    "`str.upper()` returns a copy of the underlying string with all the letters converted to uppercase. similarly, `str.lower()` returns a copy of the underlying string with all the letters converted to lowercase."
   ]
  },
  {
   "cell_type": "code",
   "execution_count": 27,
   "metadata": {},
   "outputs": [
    {
     "data": {
      "text/plain": [
       "'HAPPY PYTHONING!'"
      ]
     },
     "execution_count": 27,
     "metadata": {},
     "output_type": "execute_result"
    }
   ],
   "source": [
    "\"Happy pythoning!\".upper()"
   ]
  },
  {
   "cell_type": "markdown",
   "metadata": {},
   "source": [
    "`str.format()` performs a string formatting operation. This method provides a lot of flexibility for string formatting and interpolation:"
   ]
  },
  {
   "cell_type": "code",
   "execution_count": 28,
   "metadata": {},
   "outputs": [
    {
     "data": {
      "text/plain": [
       "\"My name is John Doe and I'm 25 years old\""
      ]
     },
     "execution_count": 28,
     "metadata": {},
     "output_type": "execute_result"
    }
   ],
   "source": [
    "name = \"John Doe\"\n",
    "age = 25\n",
    "\"My name is {0} and I'm {1} years old\".format(name, age)"
   ]
  },
  {
   "cell_type": "markdown",
   "metadata": {},
   "source": [
    "`Strings are sequences of characters` This means that we can retrieve individual characters from a string using their positional index. An index is a zero-based integer number associated with a specific position in a sequence."
   ]
  },
  {
   "cell_type": "code",
   "execution_count": 29,
   "metadata": {},
   "outputs": [
    {
     "data": {
      "text/plain": [
       "'W'"
      ]
     },
     "execution_count": 29,
     "metadata": {},
     "output_type": "execute_result"
    }
   ],
   "source": [
    "welcome = \"Welcome to Real Python!\"\n",
    "welcome[0]"
   ]
  },
  {
   "cell_type": "markdown",
   "metadata": {},
   "source": [
    "An indexing operation retrieves the character at the position indicated by the given index. Note that a negative index retrieves the element in reverse order, with -1 being the index of the last character in the string.\n",
    "\n",
    "We can also retrieve a part of a string by slicing it"
   ]
  },
  {
   "cell_type": "code",
   "execution_count": 30,
   "metadata": {},
   "outputs": [
    {
     "data": {
      "text/plain": [
       "'Welcome'"
      ]
     },
     "execution_count": 30,
     "metadata": {},
     "output_type": "execute_result"
    }
   ],
   "source": [
    "welcome = \"Welcome to Real Python!\"\n",
    "welcome[0:7]"
   ]
  },
  {
   "cell_type": "markdown",
   "metadata": {},
   "source": [
    "#### <font color = \"darkred\"><b>E. Lists</b></font>\n",
    "\n",
    "\n",
    "Lists are usually called arrays in nearly every other programming language. In Python, lists are `mutable sequences` that group various objects together. To create a list, we use an assignment with a sequence of `comma-separated objects` in square brackets ([]) on its right side."
   ]
  },
  {
   "cell_type": "code",
   "execution_count": 32,
   "metadata": {},
   "outputs": [
    {
     "name": "stdout",
     "output_type": "stream",
     "text": [
      "empty: []\n",
      "numbers: [1, 2, 3, 100]\n",
      "numbers[3]: 200\n",
      "superheroes: ['batman', 'superman', 'spiderman']\n",
      "mixed_types: ['Hello World', [4, 5, 6], False]\n"
     ]
    }
   ],
   "source": [
    "# Define an empty list\n",
    "empty = []\n",
    "print(\"empty:\", empty)\n",
    "\n",
    "\n",
    "# Define a list of numbers\n",
    "numbers = [1, 2, 3, 100]\n",
    "print(\"numbers:\", numbers)\n",
    "\n",
    "\n",
    "# Modify the list in place\n",
    "numbers[3] = 200\n",
    "print(\"numbers[3]:\", numbers[3])\n",
    "\n",
    "\n",
    "# Define a list of strings\n",
    "superheroes = [\"batman\", \"superman\", \"spiderman\"]\n",
    "print(\"superheroes:\", superheroes)\n",
    "\n",
    "\n",
    "# Define a list of objects with different data types\n",
    "mixed_types = [\"Hello World\", [4, 5, 6], False]\n",
    "print(\"mixed_types:\", mixed_types)\n"
   ]
  },
  {
   "cell_type": "markdown",
   "metadata": {},
   "source": [
    "Lists can contain objects of different data types, including other lists. They can also be empty. Since lists are mutable sequences, we can modify them in place using index notation and an assignment operation.\n",
    "\n",
    "Since lists are sequences just like strings, we can `access` their individual items using zero-based integer indices."
   ]
  },
  {
   "cell_type": "code",
   "execution_count": 33,
   "metadata": {},
   "outputs": [
    {
     "name": "stdout",
     "output_type": "stream",
     "text": [
      "numbers[1]: 2\n",
      "superheroes[-1]: spiderman\n",
      "superheroes[-2]: superman\n"
     ]
    }
   ],
   "source": [
    "numbers = [1, 2, 3, 200]\n",
    "print(\"numbers[1]:\", numbers[1])\n",
    "\n",
    "superheroes = [\"batman\", \"superman\", \"spiderman\"]\n",
    "print(\"superheroes[-1]:\", superheroes[-1])\n",
    "\n",
    "print(\"superheroes[-2]:\", superheroes[-2])\n"
   ]
  },
  {
   "cell_type": "markdown",
   "metadata": {},
   "source": [
    "If we define a list that contains elements in the form of a list or any other sequence, then we can access the inner items using multiple indices."
   ]
  },
  {
   "cell_type": "code",
   "execution_count": 34,
   "metadata": {},
   "outputs": [
    {
     "data": {
      "text/plain": [
       "6"
      ]
     },
     "execution_count": 34,
     "metadata": {},
     "output_type": "execute_result"
    }
   ],
   "source": [
    "mixed_types = [\"Hello World\", [4, 5, 6], False]\n",
    "mixed_types[1][2]"
   ]
  },
  {
   "cell_type": "code",
   "execution_count": 35,
   "metadata": {},
   "outputs": [
    {
     "data": {
      "text/plain": [
       "'llo W'"
      ]
     },
     "execution_count": 35,
     "metadata": {},
     "output_type": "execute_result"
    }
   ],
   "source": [
    "mixed_types = [\"Hello World\", [4, 5, 6], False]\n",
    "mixed_types[0][2:7]"
   ]
  },
  {
   "cell_type": "markdown",
   "metadata": {},
   "source": [
    "We can also concatenate your lists using the plus operator."
   ]
  },
  {
   "cell_type": "code",
   "execution_count": 37,
   "metadata": {},
   "outputs": [
    {
     "data": {
      "text/plain": [
       "['apples', 'grapes', 'oranges', 'corn', 'kale', 'mushrooms']"
      ]
     },
     "execution_count": 37,
     "metadata": {},
     "output_type": "execute_result"
    }
   ],
   "source": [
    "fruits = [\"apples\", \"grapes\", \"oranges\"]\n",
    "veggies = [\"corn\", \"kale\", \"mushrooms\"]\n",
    "grocery_list = fruits + veggies\n",
    "grocery_list"
   ]
  },
  {
   "cell_type": "markdown",
   "metadata": {},
   "source": [
    "Since lists are sequences of objects, you can use the same functions you use on any other sequence, such as strings.\n",
    "\n",
    "Given a list as an argument, len() returns the list’s length, or the number of objects it contains:"
   ]
  },
  {
   "cell_type": "code",
   "execution_count": 38,
   "metadata": {},
   "outputs": [
    {
     "data": {
      "text/plain": [
       "4"
      ]
     },
     "execution_count": 38,
     "metadata": {},
     "output_type": "execute_result"
    }
   ],
   "source": [
    "numbers = [1, 2, 3, 200]\n",
    "len(numbers)"
   ]
  },
  {
   "cell_type": "markdown",
   "metadata": {},
   "source": [
    "`Some built-in functions can be used with lists`: list.append() and list.sort()"
   ]
  },
  {
   "cell_type": "code",
   "execution_count": 39,
   "metadata": {},
   "outputs": [
    {
     "name": "stdout",
     "output_type": "stream",
     "text": [
      "appended fruits: ['apples', 'grapes', 'oranges', 'blueberries']\n",
      "sorted fruits: ['apples', 'blueberries', 'grapes', 'oranges']\n"
     ]
    }
   ],
   "source": [
    "# appending a list\n",
    "fruits = [\"apples\", \"grapes\", \"oranges\"]\n",
    "fruits.append(\"blueberries\")\n",
    "print(\"appended fruits:\", fruits)\n",
    "\n",
    "# sorting a list\n",
    "fruits.sort()\n",
    "print(\"sorted fruits:\", fruits)"
   ]
  },
  {
   "cell_type": "markdown",
   "metadata": {},
   "source": [
    "#### <font color = \"darkred\"><b>F. Tuples</b></font>\n",
    "\n",
    "Tuples are similar to lists, but they’re `immutable sequences`. This means that we <b>can’t change</b> them after creation. To create a tuple object, we can use an assignment operator with a sequence of a comma-separated item on its right side. We commonly use parentheses to delimit a tuple, but they’re not mandatory"
   ]
  },
  {
   "cell_type": "code",
   "execution_count": 40,
   "metadata": {},
   "outputs": [
    {
     "data": {
      "text/plain": [
       "'Jane'"
      ]
     },
     "execution_count": 40,
     "metadata": {},
     "output_type": "execute_result"
    }
   ],
   "source": [
    "employee = (\"Jane\", \"Doe\", 31, \"Software Developer\")\n",
    "employee[0]"
   ]
  },
  {
   "cell_type": "code",
   "execution_count": 41,
   "metadata": {},
   "outputs": [
    {
     "data": {
      "text/plain": [
       "'Software Developer'"
      ]
     },
     "execution_count": 41,
     "metadata": {},
     "output_type": "execute_result"
    }
   ],
   "source": [
    "employee = (\"Jane\", \"Doe\", 31, \"Software Developer\")\n",
    "employee[3]"
   ]
  },
  {
   "cell_type": "markdown",
   "metadata": {},
   "source": [
    "We can also concatenate strings using `+` signs."
   ]
  },
  {
   "cell_type": "code",
   "execution_count": 42,
   "metadata": {},
   "outputs": [
    {
     "data": {
      "text/plain": [
       "(1, 2, 3, 4)"
      ]
     },
     "execution_count": 42,
     "metadata": {},
     "output_type": "execute_result"
    }
   ],
   "source": [
    "first_tuple = (1, 2)\n",
    "second_tuple = (3, 4)\n",
    "third_tuple = first_tuple + second_tuple\n",
    "third_tuple"
   ]
  },
  {
   "cell_type": "markdown",
   "metadata": {},
   "source": [
    "Like with lists and strings, we can use some built-in functions to manipulate tuples. For example, len() returns the length of the tuple or the number of items it contains."
   ]
  },
  {
   "cell_type": "code",
   "execution_count": 43,
   "metadata": {},
   "outputs": [
    {
     "data": {
      "text/plain": [
       "3"
      ]
     },
     "execution_count": 43,
     "metadata": {},
     "output_type": "execute_result"
    }
   ],
   "source": [
    "numbers = (1, 2, 3)\n",
    "len(numbers)"
   ]
  },
  {
   "cell_type": "markdown",
   "metadata": {},
   "source": [
    "Two built-in functions: `.count()` and  `.index()`:\n",
    "\n",
    "`tuple.count()` takes an object as an argument and returns the number of times the item appears in the underlying tuple. If the object isn’t in the tuple, then `.count()` returns 0"
   ]
  },
  {
   "cell_type": "code",
   "execution_count": 44,
   "metadata": {},
   "outputs": [
    {
     "data": {
      "text/plain": [
       "2"
      ]
     },
     "execution_count": 44,
     "metadata": {},
     "output_type": "execute_result"
    }
   ],
   "source": [
    "letters = (\"a\", \"b\", \"b\", \"c\", \"a\")   \n",
    "letters.count(\"a\")           # count how many \"a\" in the tuple"
   ]
  },
  {
   "cell_type": "markdown",
   "metadata": {},
   "source": [
    "`tuple.index()` takes an object as an argument and returns the index of the first instance of that object in the tuple at hand. If the object isn’t in the tuple, then `.index()` raises a ValueError."
   ]
  },
  {
   "cell_type": "code",
   "execution_count": 45,
   "metadata": {},
   "outputs": [
    {
     "data": {
      "text/plain": [
       "0"
      ]
     },
     "execution_count": 45,
     "metadata": {},
     "output_type": "execute_result"
    }
   ],
   "source": [
    "letters = (\"a\", \"b\", \"b\", \"c\", \"a\")   \n",
    "letters.index(\"a\")           # count how many \"a\" in the tuple"
   ]
  },
  {
   "cell_type": "markdown",
   "metadata": {},
   "source": [
    "#### <font color = \"darkred\"><b>G. Dictionaries</b></font>\n",
    "\n",
    "\n",
    "`Dictionaries` are a type of associative array containing a collection of key-value pairs in which each key is a `hashable object` (i.e, immutable) that maps to an arbitrary object, the value. There are several ways to create a dictionary. Here are two of them:\n",
    "\n"
   ]
  },
  {
   "cell_type": "code",
   "execution_count": 47,
   "metadata": {},
   "outputs": [
    {
     "name": "stdout",
     "output_type": "stream",
     "text": [
      "person1 =  {'name': 'John Doe', 'age': 25, 'job': 'Python Developer'}\n",
      "person2 =  {'name': 'Jane Doe', 'age': 24, 'job': 'Web Developer'}\n"
     ]
    }
   ],
   "source": [
    "person1 = {\"name\": \"John Doe\", \"age\": 25, \"job\": \"Python Developer\"}\n",
    "print(\"person1 = \", person1)\n",
    "\n",
    "person2 = dict(name=\"Jane Doe\", age=24, job=\"Web Developer\")\n",
    "print(\"person2 = \", person2)"
   ]
  },
  {
   "cell_type": "markdown",
   "metadata": {},
   "source": [
    "The first approach uses a pair of curly brackets in which we add a comma-separated list of key-value pairs, using a colon (:) to separate the keys from the values. The second approach uses the built-in function dict(), which can take keyword arguments and turn them into a dictionary, with the keywords as the keys and the arguments as the values.\n",
    "\n",
    ">Note: Since Python 3.6, dictionaries have been ordered data structures. But before that, they were unordered. \n",
    "\n",
    "You can retrieve the value associated with a given key using the following syntax"
   ]
  },
  {
   "cell_type": "code",
   "execution_count": 48,
   "metadata": {},
   "outputs": [
    {
     "data": {
      "text/plain": [
       "'John Doe'"
      ]
     },
     "execution_count": 48,
     "metadata": {},
     "output_type": "execute_result"
    }
   ],
   "source": [
    "person1 = {\"name\": \"John Doe\", \"age\": 25, \"job\": \"Python Developer\"}\n",
    "person1[\"name\"]"
   ]
  },
  {
   "cell_type": "markdown",
   "metadata": {},
   "source": [
    "We can also retrieve the keys, values, and key-value pairs in a dictionary using `.keys()`, `.values()`, and `.items()`, respectively"
   ]
  },
  {
   "cell_type": "code",
   "execution_count": 52,
   "metadata": {},
   "outputs": [
    {
     "data": {
      "text/plain": [
       "dict_keys(['name', 'age', 'job'])"
      ]
     },
     "execution_count": 52,
     "metadata": {},
     "output_type": "execute_result"
    }
   ],
   "source": [
    "# Retrieve all the keys\n",
    "person1.keys()\n"
   ]
  },
  {
   "cell_type": "code",
   "execution_count": 53,
   "metadata": {},
   "outputs": [
    {
     "data": {
      "text/plain": [
       "dict_values(['John Doe', 25, 'Python Developer'])"
      ]
     },
     "execution_count": 53,
     "metadata": {},
     "output_type": "execute_result"
    }
   ],
   "source": [
    "# Retrieve all the values\n",
    "person1.values()"
   ]
  },
  {
   "cell_type": "code",
   "execution_count": 54,
   "metadata": {},
   "outputs": [
    {
     "data": {
      "text/plain": [
       "dict_items([('name', 'John Doe'), ('age', 25), ('job', 'Python Developer')])"
      ]
     },
     "execution_count": 54,
     "metadata": {},
     "output_type": "execute_result"
    }
   ],
   "source": [
    "# Retrieve all the key-value pairs\n",
    "person1.items()"
   ]
  },
  {
   "cell_type": "markdown",
   "metadata": {},
   "source": [
    "#### <font color = \"darkred\"><b>H. Sets</b></font>\n",
    "\n",
    "Python also provides a set data structure. Sets are unordered and mutable collections of arbitrary but hashable Python objects. You can create sets in several ways. Here are two of them"
   ]
  },
  {
   "cell_type": "code",
   "execution_count": 59,
   "metadata": {},
   "outputs": [
    {
     "data": {
      "text/plain": [
       "{'Jane', 'John', 'Linda'}"
      ]
     },
     "execution_count": 59,
     "metadata": {},
     "output_type": "execute_result"
    }
   ],
   "source": [
    "employees1 = {\"John\", \"Jane\", \"Linda\"}\n",
    "employees1"
   ]
  },
  {
   "cell_type": "code",
   "execution_count": 60,
   "metadata": {},
   "outputs": [
    {
     "data": {
      "text/plain": [
       "{'David', 'Marie', 'Mark'}"
      ]
     },
     "execution_count": 60,
     "metadata": {},
     "output_type": "execute_result"
    }
   ],
   "source": [
    "employees2 = set([\"David\", \"Mark\", \"Marie\"])\n",
    "employees2"
   ]
  },
  {
   "cell_type": "markdown",
   "metadata": {},
   "source": [
    "`Set operations`: The following example shows how to use the basic set operations like union (|), intersection (&), difference (-), and so on."
   ]
  },
  {
   "cell_type": "code",
   "execution_count": 61,
   "metadata": {},
   "outputs": [
    {
     "data": {
      "text/plain": [
       "{2, 3, 4, 5, 6, 7, 8}"
      ]
     },
     "execution_count": 61,
     "metadata": {},
     "output_type": "execute_result"
    }
   ],
   "source": [
    "primes = {2, 3, 5, 7}\n",
    "evens = {2, 4, 6, 8}\n",
    "\n",
    "# Union\n",
    "primes | evens"
   ]
  },
  {
   "cell_type": "code",
   "execution_count": 62,
   "metadata": {},
   "outputs": [
    {
     "data": {
      "text/plain": [
       "{2}"
      ]
     },
     "execution_count": 62,
     "metadata": {},
     "output_type": "execute_result"
    }
   ],
   "source": [
    "# Intersection\n",
    "primes & evens"
   ]
  },
  {
   "cell_type": "code",
   "execution_count": 63,
   "metadata": {},
   "outputs": [
    {
     "data": {
      "text/plain": [
       "{3, 5, 7}"
      ]
     },
     "execution_count": 63,
     "metadata": {},
     "output_type": "execute_result"
    }
   ],
   "source": [
    "# Difference\n",
    "primes - evens"
   ]
  },
  {
   "cell_type": "code",
   "execution_count": 64,
   "metadata": {},
   "outputs": [
    {
     "data": {
      "text/plain": [
       "{2, 3, 5, 7, 11}"
      ]
     },
     "execution_count": 64,
     "metadata": {},
     "output_type": "execute_result"
    }
   ],
   "source": [
    "primes = {2, 3, 5, 7}\n",
    "\n",
    "primes.add(11)\n",
    "primes"
   ]
  },
  {
   "cell_type": "markdown",
   "metadata": {},
   "source": [
    "\n",
    "### 3.5. Conditional statements\n",
    "\n",
    "Sometimes you need to run (or not run) a given code block depending on whether certain conditions are met. In this case, conditional statements are your ally. These statements control the execution of a group of statements based on the truth value of an expression. We can create a conditional statement in Python with the if keyword and the following general syntax.\n",
    "\n",
    "```\n",
    "if expr0:\n",
    "    # Run if expr0 is true\n",
    "    # Your code goes here...\n",
    "elif expr1:\n",
    "    # Run if expr1 is true\n",
    "    # Your code goes here...\n",
    "elif expr2:\n",
    "    # Run if expr2 is true\n",
    "    # Your code goes here...\n",
    "       ...\n",
    "else:\n",
    "    # Run if all expressions are false\n",
    "    # Your code goes here...\n",
    "\n",
    "# Next statement\n",
    "```\n",
    "\n"
   ]
  },
  {
   "cell_type": "code",
   "execution_count": null,
   "metadata": {},
   "outputs": [],
   "source": [
    "age = 16\n",
    "if (age >= 18):\n",
    "    print(\"You're a legal adult\")\n",
    "else:           # caution: indentation is important!\n",
    "    print(\"You're NOT an adult\")"
   ]
  },
  {
   "cell_type": "markdown",
   "metadata": {},
   "source": [
    "The if statement runs only one code block. In other words, if expr0 is true, then only its associated code block will run. After that, the execution jumps to the statement directly below the `if statement`.\n",
    "\n",
    "The first `elif clause` evaluates expr1 only if expr0 is false. If expr0 is false and expr1 is true, then only the code block associated with expr1 will run, and so on. The else clause is optional and will run only if all the previously evaluated conditions are false. You can have as many `elif clauses` as you need, including none at all, but we can have only up to one else clause."
   ]
  },
  {
   "cell_type": "code",
   "execution_count": 67,
   "metadata": {},
   "outputs": [
    {
     "name": "stdout",
     "output_type": "stream",
     "text": [
      "You're exactly 18 years old\n"
     ]
    }
   ],
   "source": [
    "age = 18\n",
    "if age > 18:\n",
    "    print(\"You're over 18 years old\")\n",
    "elif age == 18:\n",
    "    print(\"You're exactly 18 years old\")"
   ]
  },
  {
   "cell_type": "markdown",
   "metadata": {},
   "source": [
    "In the above example, the first expression, age > 18, is false, so the execution jumps to the elif clause. The condition in this clause is true, so Python runs the associated code block and prints we're exactly 18 years old."
   ]
  },
  {
   "cell_type": "markdown",
   "metadata": {},
   "source": [
    "### 3.6. Loops\n",
    "\n"
   ]
  },
  {
   "cell_type": "markdown",
   "metadata": {},
   "source": [
    "If you need to repeat a piece of code several times to get a final result, then you might need to use a loop. Loops are a common way of iterating multiple times and performing some actions in each iteration. Python provides two types of loops.\n",
    "\n",
    "* for loops for definite iteration, or performing a set number or repetitions\n",
    "* while loops for indefinite iteration, or repeating until a given condition is met\n",
    "\n",
    "#### <font color = \"darkred\"><b>A. for-loop</b></font>\n",
    "\n",
    "```\n",
    "for loop_var in iterable:\n",
    "    # Repeat this code block until the iterable is exhausted\n",
    "    # Do something with loop_var...\n",
    "    if break_condition:\n",
    "        break  # Leave the loop\n",
    "    if continue_condition:\n",
    "        continue  # Resume the loop without running the remaining code\n",
    "    # Remaining code...\n",
    "else:\n",
    "    # Run this code block if no break statement is run\n",
    "\n",
    "# Next statement\n",
    "```\n",
    "\n"
   ]
  },
  {
   "cell_type": "code",
   "execution_count": 7,
   "metadata": {},
   "outputs": [
    {
     "name": "stdout",
     "output_type": "stream",
     "text": [
      "1\n",
      "2\n",
      "3\n",
      "4\n",
      "5\n",
      "The loop wasn't interrupted\n"
     ]
    }
   ],
   "source": [
    "for i in (1, 2, 3, 4, 5):\n",
    "    print(i)\n",
    "else:\n",
    "    print(\"The loop wasn't interrupted\")"
   ]
  },
  {
   "cell_type": "markdown",
   "metadata": {},
   "source": [
    "\n",
    "This type of loop performs as many iterations as items in iterable. Normally, you use each iteration to perform a given operation on the value of loop_var. The else clause is optional and runs when the loop finishes. The break and continue statements are also optional.\n",
    "\n",
    "When the loop processes the last number in the tuple, the flow of execution jumps into the else clause and prints `The loop wasn't interrupted`. That’s because the loop wasn’t interrupted by a break statement. We commonly use an `else clause` in loops that have a `break statement` in their code block. Otherwise, there’s no need for it.\n",
    "\n",
    "If the loop hits a `break_condition`, then the `break statement` interrupts the loop execution and jumps to the next statement below the loop without consuming the rest of the items in iterable.\n",
    "\n"
   ]
  },
  {
   "cell_type": "code",
   "execution_count": 12,
   "metadata": {},
   "outputs": [
    {
     "name": "stdout",
     "output_type": "stream",
     "text": [
      "Number not found\n",
      "Number not found\n",
      "Number found: 3\n"
     ]
    }
   ],
   "source": [
    "number = 3\n",
    "for i in (1, 2, 3, 4, 5):\n",
    "    if i == number:\n",
    "        print(\"Number found:\", i)\n",
    "        break\n",
    "    else:\n",
    "        print(\"Number not found\")"
   ]
  },
  {
   "cell_type": "markdown",
   "metadata": {},
   "source": [
    "If the loop hits a `continue_condition`, then the `continue statement` resumes the loop without running the rest of the statements in the loop’s code block:"
   ]
  },
  {
   "cell_type": "code",
   "execution_count": 13,
   "metadata": {},
   "outputs": [
    {
     "name": "stdout",
     "output_type": "stream",
     "text": [
      "1\n",
      "2\n",
      "4\n",
      "5\n"
     ]
    }
   ],
   "source": [
    "for i in (1, 2, 3, 4, 5):\n",
    "    if i == 3:\n",
    "        continue\n",
    "    print(i)"
   ]
  },
  {
   "cell_type": "markdown",
   "metadata": {},
   "source": [
    "Both statements, `break` and `continue`, should be wrapped in a conditional. Otherwise, the loop will always break when it hits break and continue when it hits continue."
   ]
  },
  {
   "cell_type": "markdown",
   "metadata": {},
   "source": [
    "#### <font color = \"darkred\"><b>B. while-loop</b></font>\n",
    "\n",
    "Normally, we use a while loop when the number of iterations is unknown beforehand. That’s why this loop is used to perform indefinite iterations.\n",
    "\n",
    "Here’s the general syntax for a while loop in Python\n",
    "\n",
    "```\n",
    "while expression:\n",
    "    # Repeat this code block until the expression is false\n",
    "    # Do something...\n",
    "    if break_condition:\n",
    "        break  # Leave the loop\n",
    "    if continue_condition:\n",
    "        continue  # Resume the loop without running the remaining code\n",
    "    # Remaining code...\n",
    "else:\n",
    "    # Run this code block if no break statement is run\n",
    "\n",
    "# Next statement\n",
    "```\n",
    "\n",
    "This loop works similarly to a for loop, but it’ll keep iterating until expression is false. A common problem with this type of loop comes when we provide an expression that never evaluates to False. In this case, the loop will iterate forever."
   ]
  },
  {
   "cell_type": "code",
   "execution_count": 15,
   "metadata": {},
   "outputs": [
    {
     "name": "stdout",
     "output_type": "stream",
     "text": [
      "1\n",
      "2\n",
      "3\n",
      "4\n",
      "The loop wasn't interrupted\n"
     ]
    }
   ],
   "source": [
    "count = 1    # while-loop requires initialization of the iteration index\n",
    "while count < 5:\n",
    "    print(count)\n",
    "    count = count + 1\n",
    "else:\n",
    "     print(\"The loop wasn't interrupted\")"
   ]
  },
  {
   "cell_type": "markdown",
   "metadata": {},
   "source": [
    "Again, the `else clause` is optional, and we’ll commonly use it with a break statement in the loop’s code block. Here, break and continue to work the same as in a `for-loop`.\n",
    "\n",
    "There are situations in which we need an infinite loop. For example, GUI applications run in an infinite loop that manages the user’s events. This loop needs a break statement to terminate the loop when, for example, the user exits the application. Otherwise, the application would continue running forever."
   ]
  },
  {
   "cell_type": "markdown",
   "metadata": {},
   "source": [
    "### 3.6. Functions"
   ]
  },
  {
   "cell_type": "markdown",
   "metadata": {},
   "source": [
    "In Python, a function is a named code block that performs actions and optionally computes the result, which is then returned to the calling code. We can use the following syntax to define a function:\n",
    "\n",
    "```\n",
    "def function_name(arg1, arg2, ..., argN):\n",
    "    # Do something with arg1, arg2, ..., argN\n",
    "    return return_value\n",
    "```\n",
    "\n",
    "The def keyword starts the function header. Then we need the name of the function and a list of arguments in parentheses. Note that the list of arguments is optional, but the parentheses are syntactically required.\n",
    "\n",
    "The final step is to define the function’s code block, which will begin with one level of indentation to the right. In this case, the return statement is also optional and is the statement that we use if you need to send the `return_value` back to the caller code.\n",
    "\n",
    "To use a function, we need to call it. A function call consists of the function’s name, followed by the function’s arguments in parentheses:\n",
    "\n",
    "```\n",
    "function_name(arg1, arg2, ..., argN)\n",
    "```\n",
    "\n",
    "We can have functions that don’t require arguments when called, but parentheses are always needed. If we forget them, then we won’t be calling the function but referencing it as a function object.\n"
   ]
  },
  {
   "cell_type": "code",
   "execution_count": 18,
   "metadata": {},
   "outputs": [
    {
     "data": {
      "text/plain": [
       "256"
      ]
     },
     "execution_count": 18,
     "metadata": {},
     "output_type": "execute_result"
    }
   ],
   "source": [
    "# square function\n",
    "def squareroot(input_val):\n",
    "    return input_val**2\n",
    "\n",
    "squareroot(input_val=16)   # calling the square function"
   ]
  },
  {
   "cell_type": "markdown",
   "metadata": {},
   "source": [
    "## 4. Errors  Handling"
   ]
  },
  {
   "cell_type": "markdown",
   "metadata": {},
   "source": [
    "Errors are something that irritates and frustrates programmers at every level of experience. Having the ability to identify and handle them is a core skill for programmers. In Python, there are two types of code-based errors: syntax errors and exceptions."
   ]
  },
  {
   "cell_type": "markdown",
   "metadata": {},
   "source": [
    "### 4.1. Syntax Errors"
   ]
  },
  {
   "cell_type": "markdown",
   "metadata": {},
   "source": [
    "`Syntax errors` occur when the syntax of your code isn’t valid in Python. They automatically stop the execution of the programs. For example, the if statement below is missing a colon at the end of the statement’s header, and Python quickly points out the error."
   ]
  },
  {
   "cell_type": "code",
   "execution_count": 20,
   "metadata": {},
   "outputs": [
    {
     "ename": "SyntaxError",
     "evalue": "invalid syntax (<ipython-input-20-8cbd15e8a43e>, line 1)",
     "output_type": "error",
     "traceback": [
      "\u001b[1;36m  File \u001b[1;32m\"<ipython-input-20-8cbd15e8a43e>\"\u001b[1;36m, line \u001b[1;32m1\u001b[0m\n\u001b[1;33m    if x < 9\u001b[0m\n\u001b[1;37m            ^\u001b[0m\n\u001b[1;31mSyntaxError\u001b[0m\u001b[1;31m:\u001b[0m invalid syntax\n"
     ]
    }
   ],
   "source": [
    "if x < 9"
   ]
  },
  {
   "cell_type": "markdown",
   "metadata": {},
   "source": [
    "The missing colon at the end of the if statement is invalid Python syntax. The Python parser catches the problem and raises a `SyntaxError` immediately. The arrow (^) indicates where the parser found the problem."
   ]
  },
  {
   "cell_type": "markdown",
   "metadata": {},
   "source": [
    "### 4.2. Exceptions"
   ]
  },
  {
   "cell_type": "markdown",
   "metadata": {},
   "source": [
    "`Exceptions` are raised by syntactically correct code at runtime to signal a problem during program execution. For example, consider the following math expression."
   ]
  },
  {
   "cell_type": "code",
   "execution_count": 21,
   "metadata": {},
   "outputs": [
    {
     "ename": "ZeroDivisionError",
     "evalue": "division by zero",
     "output_type": "error",
     "traceback": [
      "\u001b[1;31m---------------------------------------------------------------------------\u001b[0m",
      "\u001b[1;31mZeroDivisionError\u001b[0m                         Traceback (most recent call last)",
      "\u001b[1;32m<ipython-input-21-df982fec2812>\u001b[0m in \u001b[0;36m<module>\u001b[1;34m\u001b[0m\n\u001b[1;32m----> 1\u001b[1;33m \u001b[1;36m12\u001b[0m \u001b[1;33m/\u001b[0m \u001b[1;36m0\u001b[0m\u001b[1;33m\u001b[0m\u001b[1;33m\u001b[0m\u001b[0m\n\u001b[0m",
      "\u001b[1;31mZeroDivisionError\u001b[0m: division by zero"
     ]
    }
   ],
   "source": [
    "12 / 0"
   ]
  },
  {
   "cell_type": "markdown",
   "metadata": {},
   "source": [
    "The expression 12 / 0 is syntactically correct in the eyes of the Python parser. However, it raises a `ZeroDivisionError` exception when the interpreter tries to actually evaluate the expression."
   ]
  },
  {
   "cell_type": "markdown",
   "metadata": {},
   "source": [
    "Python provides several convenient built-in exceptions that allow us to catch and handle errors in our code. We will revisit this topic later with more details."
   ]
  },
  {
   "cell_type": "markdown",
   "metadata": {},
   "source": [
    "### 4.3. Semantic Errors"
   ]
  },
  {
   "cell_type": "markdown",
   "metadata": {},
   "source": [
    "Semantic errors happen as a result of one or more problems in the logic of a program. These errors can be difficult to find, debug, and fix because no error message is generated. The code runs but generates unexpected output, incorrect output, or no output at all.\n",
    "\n",
    "A classic example of a semantic error would be an infinite loop, which most programmers experience at least once in their coding lifetime."
   ]
  },
  {
   "cell_type": "markdown",
   "metadata": {},
   "source": [
    "## 5. Getting Help in Python"
   ]
  },
  {
   "cell_type": "markdown",
   "metadata": {},
   "source": [
    "Python is always there to help if we get stuck. Perhaps we want to know how a specific function, method, class, or object works. In this case, we can just open an interactive session and call help(). That’ll take you directly to Python’s help utility."
   ]
  },
  {
   "cell_type": "code",
   "execution_count": null,
   "metadata": {},
   "outputs": [
    {
     "name": "stdout",
     "output_type": "stream",
     "text": [
      "\n",
      "Welcome to Python 3.7's help utility!\n",
      "\n",
      "If this is your first time using Python, you should definitely check out\n",
      "the tutorial on the Internet at https://docs.python.org/3.7/tutorial/.\n",
      "\n",
      "Enter the name of any module, keyword, or topic to get help on writing\n",
      "Python programs and using Python modules.  To quit this help utility and\n",
      "return to the interpreter, just type \"quit\".\n",
      "\n",
      "To get a list of available modules, keywords, symbols, or topics, type\n",
      "\"modules\", \"keywords\", \"symbols\", or \"topics\".  Each module also comes\n",
      "with a one-line summary of what it does; to list the modules whose name\n",
      "or summary contain a given string such as \"spam\", type \"modules spam\".\n",
      "\n",
      "help> len\n",
      "Help on built-in function len in module builtins:\n",
      "\n",
      "len(obj, /)\n",
      "    Return the number of items in a container.\n",
      "\n"
     ]
    }
   ],
   "source": [
    "help()"
   ]
  },
  {
   "cell_type": "markdown",
   "metadata": {},
   "source": [
    "## 6. Standard Libraries"
   ]
  },
  {
   "cell_type": "markdown",
   "metadata": {},
   "source": [
    "One of the great things about Python is the plethora of available modules, packages, and libraries both built into the Python core and made available by third-party developers. These modules, packages, and libraries can be quite helpful in our day-to-day work as a Python coder. Here are some of the most commonly used built-in modules."
   ]
  },
  {
   "cell_type": "markdown",
   "metadata": {},
   "source": [
    "* `math` for mathematical operations\n",
    "* `random` for generating pseudo-random numbers\n",
    "* `re` for working with regular expressions\n",
    "* `os` for using operating system–dependent functionalities\n",
    "* `itertools` for working with iterators\n",
    "* `collections` for specialized container data types"
   ]
  },
  {
   "cell_type": "code",
   "execution_count": 4,
   "metadata": {},
   "outputs": [
    {
     "name": "stdout",
     "output_type": "stream",
     "text": [
      "math.pi: 3.141592653589793\n",
      "math.sqrt(121): 11.0\n",
      "math.pow(7, 2): 49.0\n"
     ]
    }
   ],
   "source": [
    "import math\n",
    "\n",
    "print(\"math.pi:\", math.pi)\n",
    "\n",
    "print(\"math.sqrt(121):\", math.sqrt(121))\n",
    "\n",
    "print(\"math.pow(7, 2):\",math.pow(7, 2))"
   ]
  },
  {
   "cell_type": "code",
   "execution_count": 5,
   "metadata": {},
   "outputs": [
    {
     "data": {
      "text/plain": [
       "11.0"
      ]
     },
     "execution_count": 5,
     "metadata": {},
     "output_type": "execute_result"
    }
   ],
   "source": [
    "from math import sqrt\n",
    "sqrt(121)"
   ]
  },
  {
   "cell_type": "markdown",
   "metadata": {},
   "source": [
    "This kind of import statement brings the name sqrt() into the current namespace, so we can use it directly without the need to reference the containing module.\n",
    "\n",
    "If we use modules, such as math or random, then we should not use those same names for the custom modules, functions, or objects. Otherwise, we might run into name conflicts, which can cause unexpected behavior."
   ]
  },
  {
   "cell_type": "code",
   "execution_count": null,
   "metadata": {},
   "outputs": [],
   "source": []
  }
 ],
 "metadata": {
  "kernelspec": {
   "display_name": "Python 3 (ipykernel)",
   "language": "python",
   "name": "python3"
  },
  "language_info": {
   "codemirror_mode": {
    "name": "ipython",
    "version": 3
   },
   "file_extension": ".py",
   "mimetype": "text/x-python",
   "name": "python",
   "nbconvert_exporter": "python",
   "pygments_lexer": "ipython3",
   "version": "3.9.12"
  },
  "latex_envs": {
   "LaTeX_envs_menu_present": true,
   "autoclose": false,
   "autocomplete": true,
   "bibliofile": "biblio.bib",
   "cite_by": "apalike",
   "current_citInitial": 1,
   "eqLabelWithNumbers": true,
   "eqNumInitial": 1,
   "hotkeys": {
    "equation": "Ctrl-E",
    "itemize": "Ctrl-I"
   },
   "labels_anchors": false,
   "latex_user_defs": false,
   "report_style_numbering": false,
   "user_envs_cfg": false
  },
  "toc": {
   "base_numbering": "",
   "nav_menu": {},
   "number_sections": false,
   "sideBar": true,
   "skip_h1_title": true,
   "title_cell": "Table of Contents",
   "title_sidebar": "Introduction to Python",
   "toc_cell": false,
   "toc_position": {
    "height": "calc(100% - 180px)",
    "left": "10px",
    "top": "150px",
    "width": "268px"
   },
   "toc_section_display": true,
   "toc_window_display": true
  },
  "varInspector": {
   "cols": {
    "lenName": 16,
    "lenType": 16,
    "lenVar": 40
   },
   "kernels_config": {
    "python": {
     "delete_cmd_postfix": "",
     "delete_cmd_prefix": "del ",
     "library": "var_list.py",
     "varRefreshCmd": "print(var_dic_list())"
    },
    "r": {
     "delete_cmd_postfix": ") ",
     "delete_cmd_prefix": "rm(",
     "library": "var_list.r",
     "varRefreshCmd": "cat(var_dic_list()) "
    }
   },
   "types_to_exclude": [
    "module",
    "function",
    "builtin_function_or_method",
    "instance",
    "_Feature"
   ],
   "window_display": false
  }
 },
 "nbformat": 4,
 "nbformat_minor": 2
}
